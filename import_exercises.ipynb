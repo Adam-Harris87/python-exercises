{
 "cells": [
  {
   "cell_type": "markdown",
   "id": "db25e58b",
   "metadata": {},
   "source": [
    "### 1. Import and test 3 of the functions from your functions exercise file. Import each function in a different way:"
   ]
  },
  {
   "cell_type": "code",
   "execution_count": 1,
   "id": "bb5a46f1",
   "metadata": {},
   "outputs": [],
   "source": [
    "import function_exercises as fe"
   ]
  },
  {
   "cell_type": "markdown",
   "id": "9289fad8",
   "metadata": {},
   "source": [
    "#### A.\n",
    "Run an interactive python session and import the module. Call the is_vowel function using the . syntax."
   ]
  },
  {
   "cell_type": "code",
   "execution_count": 3,
   "id": "cad35e06",
   "metadata": {},
   "outputs": [
    {
     "name": "stdout",
     "output_type": "stream",
     "text": [
      "True\n",
      "False\n"
     ]
    }
   ],
   "source": [
    "print(fe.is_vowel('a'))\n",
    "print(fe.is_vowel('g'))"
   ]
  },
  {
   "cell_type": "markdown",
   "id": "631d3b8f",
   "metadata": {},
   "source": [
    "#### C.\n",
    "Create a jupyter notebook named import_exercises.ipynb. Use from to import the get_letter_grade function and give it an alias. Test this function in your notebook."
   ]
  },
  {
   "cell_type": "code",
   "execution_count": 4,
   "id": "da8b8bcf",
   "metadata": {},
   "outputs": [],
   "source": [
    "from function_exercises import get_letter_grade as glg"
   ]
  },
  {
   "cell_type": "code",
   "execution_count": 6,
   "id": "ae2e9bd6",
   "metadata": {},
   "outputs": [
    {
     "name": "stdout",
     "output_type": "stream",
     "text": [
      "B\n",
      "A\n"
     ]
    }
   ],
   "source": [
    "print(glg(84))\n",
    "print(glg(94))"
   ]
  },
  {
   "cell_type": "markdown",
   "id": "4b6ef3ef",
   "metadata": {},
   "source": [
    "### 2. Read about and use the itertools module from the python standard library to help you solve the following problems (Hint: wrap the itertools results in a list to see the results).\n",
    "\n",
    "- How many different ways can you combine a single letter from \"abc\" with either 1, 2, or 3?\n",
    "- How many different combinations are there of 2 letters from \"abcd\"?\n",
    "- How many different permutations are there of 2 letters from \"abcd\"?"
   ]
  },
  {
   "cell_type": "code",
   "execution_count": 1,
   "id": "2dd19775",
   "metadata": {},
   "outputs": [],
   "source": [
    "import itertools"
   ]
  },
  {
   "cell_type": "code",
   "execution_count": 112,
   "id": "3c076584",
   "metadata": {},
   "outputs": [
    {
     "name": "stdout",
     "output_type": "stream",
     "text": [
      "9\n"
     ]
    }
   ],
   "source": [
    "# How many different ways can you combine a \n",
    "# single letter from \"abc\" with either 1, 2, or 3?\n",
    "product = itertools.product('abc', '123')\n",
    "count = 0\n",
    "for i in product:\n",
    "    count += 1\n",
    "print(count)"
   ]
  },
  {
   "cell_type": "code",
   "execution_count": 2,
   "id": "3f9fa0f9",
   "metadata": {},
   "outputs": [
    {
     "data": {
      "text/plain": [
       "9"
      ]
     },
     "execution_count": 2,
     "metadata": {},
     "output_type": "execute_result"
    }
   ],
   "source": [
    "len(list(itertools.product('abc','123')))"
   ]
  },
  {
   "cell_type": "code",
   "execution_count": 113,
   "id": "33d9fb83",
   "metadata": {},
   "outputs": [
    {
     "name": "stdout",
     "output_type": "stream",
     "text": [
      "6\n"
     ]
    }
   ],
   "source": [
    "#How many different combinations are there of 2 letters from \"abcd\"?\n",
    "combinations = itertools.combinations('abcd', 2)\n",
    "count = 0\n",
    "for i in combinations:\n",
    "    count += 1\n",
    "print(count)"
   ]
  },
  {
   "cell_type": "code",
   "execution_count": 3,
   "id": "105b66fc",
   "metadata": {},
   "outputs": [
    {
     "data": {
      "text/plain": [
       "6"
      ]
     },
     "execution_count": 3,
     "metadata": {},
     "output_type": "execute_result"
    }
   ],
   "source": [
    "len(list(itertools.combinations('abcd', 2)))"
   ]
  },
  {
   "cell_type": "code",
   "execution_count": 114,
   "id": "c4a1b9f5",
   "metadata": {},
   "outputs": [
    {
     "name": "stdout",
     "output_type": "stream",
     "text": [
      "12\n"
     ]
    }
   ],
   "source": [
    "# How many different permutations are there of 2 letters from \"abcd\"?\n",
    "permutations = itertools.permutations('abcd', 2)\n",
    "count = 0\n",
    "for i in permutations:\n",
    "    count += 1\n",
    "print(count)"
   ]
  },
  {
   "cell_type": "markdown",
   "id": "e58ccb8c",
   "metadata": {},
   "source": [
    "### 3. Save this file as profiles.json inside of your exercises directory (right click -> save file as...).\n",
    "\n",
    "Use the load function from the json module to open this file.\n",
    "\n",
    "Your code should produce a list of dictionaries. Using this data, write some code that calculates and outputs the following information:"
   ]
  },
  {
   "cell_type": "code",
   "execution_count": 4,
   "id": "b7ed7bc3",
   "metadata": {},
   "outputs": [],
   "source": [
    "import json"
   ]
  },
  {
   "cell_type": "code",
   "execution_count": 10,
   "id": "64489151",
   "metadata": {},
   "outputs": [],
   "source": [
    "profiles = json.load(open('profiles.json'))"
   ]
  },
  {
   "cell_type": "code",
   "execution_count": 9,
   "id": "b0ea5848",
   "metadata": {
    "scrolled": false
   },
   "outputs": [
    {
     "name": "stdout",
     "output_type": "stream",
     "text": [
      "{'_id': '54e23c3e46ab53a440b580e8', 'index': 0, 'guid': '9962b468-ef3e-4993-b677-617469bc3008', 'isActive': False, 'balance': '$2,097.02', 'picture': 'http://placehold.it/32x32', 'age': 39, 'eyeColor': 'blue', 'name': 'Hebert Estes', 'gender': 'male', 'company': 'ANDRYX', 'email': 'hebertestes@andryx.com', 'phone': '+1 (866) 456-2268', 'address': '121 Emmons Avenue, Klondike, Kentucky, 5975', 'about': 'Sit cillum deserunt irure laboris tempor fugiat laboris. Amet commodo amet est incididunt. Dolore qui fugiat cillum pariatur dolore excepteur elit ipsum.\\r\\n', 'registered': '2014-11-10T01:44:03 +06:00', 'latitude': -80.157843, 'longitude': 161.93016, 'tags': ['sit', 'occaecat', 'non', 'ea', 'sit', 'laboris', 'exercitation'], 'friends': [{'id': 0, 'name': 'Tanisha Leonard'}, {'id': 1, 'name': 'Dennis Wilson'}, {'id': 2, 'name': 'Lupe Howe'}], 'greeting': 'Hello, Hebert Estes! You have 4 unread messages.', 'favoriteFruit': 'strawberry'}\n",
      "\n",
      "{'_id': '54e23c3ef5cc0d250968c212', 'index': 1, 'guid': '905f849d-49bf-4a57-b4f3-5d6e4bf1b04c', 'isActive': False, 'balance': '$3,654.02', 'picture': 'http://placehold.it/32x32', 'age': 30, 'eyeColor': 'green', 'name': 'Allison Wynn', 'gender': 'male', 'company': 'PHARMACON', 'email': 'allisonwynn@pharmacon.com', 'phone': '+1 (926) 525-3131', 'address': '724 Brevoort Place, Lodoga, Indiana, 3880', 'about': 'Esse quis cillum sunt occaecat ad et eu incididunt aliquip dolor. Adipisicing labore magna anim cillum nisi. Elit mollit consequat velit nulla cillum excepteur elit ullamco deserunt. Anim aliquip Lorem excepteur ad veniam et labore in qui ullamco. Occaecat sit do incididunt voluptate id magna ea amet.\\r\\n', 'registered': '2014-06-10T13:41:26 +05:00', 'latitude': 55.737207, 'longitude': -167.177561, 'tags': ['enim', 'officia', 'laboris', 'irure', 'veniam', 'occaecat', 'pariatur'], 'friends': [{'id': 0, 'name': 'Curry Cox'}, {'id': 1, 'name': 'Alma Dale'}, {'id': 2, 'name': 'Barbara Mayo'}], 'greeting': 'Hello, Allison Wynn! You have 19 unread messages.', 'favoriteFruit': 'apple'}\n",
      "\n"
     ]
    }
   ],
   "source": [
    "for profile in profiles[:2]:\n",
    "    print(profile)\n",
    "    print()"
   ]
  },
  {
   "cell_type": "code",
   "execution_count": 116,
   "id": "700810ab",
   "metadata": {},
   "outputs": [
    {
     "name": "stdout",
     "output_type": "stream",
     "text": [
      "Total number of users\n",
      "19\n"
     ]
    }
   ],
   "source": [
    "#Total number of users\n",
    "print('Total number of users')\n",
    "print(len(profiles))"
   ]
  },
  {
   "cell_type": "code",
   "execution_count": 121,
   "id": "555ae584",
   "metadata": {},
   "outputs": [
    {
     "name": "stdout",
     "output_type": "stream",
     "text": [
      "Number of active users\n",
      "9\n"
     ]
    }
   ],
   "source": [
    "#Number of active users\n",
    "print('Number of active users')\n",
    "print(len([i for i in profiles if i['isActive'] == True]))"
   ]
  },
  {
   "cell_type": "code",
   "execution_count": 120,
   "id": "86c20529",
   "metadata": {},
   "outputs": [
    {
     "name": "stdout",
     "output_type": "stream",
     "text": [
      "Number of inactive users\n",
      "10\n"
     ]
    }
   ],
   "source": [
    "# Number of inactive users\n",
    "print('Number of inactive users')\n",
    "print(len([i for i in profiles if i['isActive'] == False]))"
   ]
  },
  {
   "cell_type": "code",
   "execution_count": 20,
   "id": "b53968a0",
   "metadata": {},
   "outputs": [
    {
     "data": {
      "text/plain": [
       "2097.02"
      ]
     },
     "execution_count": 20,
     "metadata": {},
     "output_type": "execute_result"
    }
   ],
   "source": [
    "profiles[0]['balance']\n",
    "float(profiles[0]['balance'].strip('$').replace(',',''))"
   ]
  },
  {
   "cell_type": "code",
   "execution_count": 77,
   "id": "98d94c86",
   "metadata": {},
   "outputs": [
    {
     "name": "stdout",
     "output_type": "stream",
     "text": [
      "Grand total of balances for all users\n",
      "52667.02\n"
     ]
    }
   ],
   "source": [
    "# Grand total of balances for all users\n",
    "total = 0\n",
    "for i in profiles:\n",
    "    #get the user's balance, remove the '$' and ',' characters and convert to float type\n",
    "    balance = float(i.get('balance').replace('$','').replace(',',''))\n",
    "    #add balance to total\n",
    "    total += balance\n",
    "print('Grand total of balances for all users')\n",
    "print(total)"
   ]
  },
  {
   "cell_type": "code",
   "execution_count": 76,
   "id": "e4d76ec3",
   "metadata": {},
   "outputs": [
    {
     "name": "stdout",
     "output_type": "stream",
     "text": [
      "Average balance per user\n",
      "2771.95\n"
     ]
    }
   ],
   "source": [
    "# Average balance per user\n",
    "total = 0\n",
    "user_count = 0\n",
    "total = 0\n",
    "for i in profiles:\n",
    "    #get a count of total users\n",
    "    user_count += 1\n",
    "    #get the user's balance remove the '$' and ',' characters and convert to float type\n",
    "    balance = float(i.get('balance').replace('$','').replace(',',''))\n",
    "    #add balance to total\n",
    "    total += balance\n",
    "print('Average balance per user')\n",
    "print(round(total / user_count, 2))"
   ]
  },
  {
   "cell_type": "code",
   "execution_count": 24,
   "id": "6d9bdfe5",
   "metadata": {},
   "outputs": [
    {
     "name": "stdout",
     "output_type": "stream",
     "text": [
      "User with the lowest balance\n",
      "Avery Flynn 1214.1\n"
     ]
    }
   ],
   "source": [
    "# User with the lowest balance\n",
    "#create temp variable lowest with an amount greater than the lowest actual balance\n",
    "lowest = 9999\n",
    "user = 0\n",
    "for i in profiles:\n",
    "    #get the user's balance, remove the '$' and ',' characters and convert to float type\n",
    "    balance = float(i.get('balance').replace('$','').replace(',',''))\n",
    "    #check if the current user balance is less than the lowest balance\n",
    "    if balance < lowest:\n",
    "        #if the current user balance is lowest then get the user's name\n",
    "        user = i.get('name')\n",
    "        #set the new lowest balance to current user balance\n",
    "        lowest = balance\n",
    "print('User with the lowest balance')\n",
    "print(user, lowest)"
   ]
  },
  {
   "cell_type": "code",
   "execution_count": 19,
   "id": "80027440",
   "metadata": {},
   "outputs": [
    {
     "data": {
      "text/plain": [
       "1214.1"
      ]
     },
     "execution_count": 19,
     "metadata": {},
     "output_type": "execute_result"
    }
   ],
   "source": [
    "balance_list = []\n",
    "for profile in profiles:\n",
    "    bal = float(profile['balance'].replace('$','').replace(',',''))\n",
    "    balance_list.append(bal)\n",
    "min(balance_list)"
   ]
  },
  {
   "cell_type": "code",
   "execution_count": 25,
   "id": "39a91ec1",
   "metadata": {},
   "outputs": [
    {
     "name": "stdout",
     "output_type": "stream",
     "text": [
      "User with the highest balance\n",
      "Fay Hammond 3919.64\n"
     ]
    }
   ],
   "source": [
    "# User with the highest balance\n",
    "#create temp variable lowest with an amount greater than the lowest actual balance\n",
    "highest = 0\n",
    "user = 0\n",
    "for i in profiles:\n",
    "    #get the user's balance, remove the '$' and ',' characters and convert to float type\n",
    "    balance = float(i.get('balance').replace('$','').replace(',',''))\n",
    "    #check if the current user balance is less than the lowest balance\n",
    "    if balance > highest:\n",
    "        #if the current user balance is lowest then get the user's name\n",
    "        user = i.get('name')\n",
    "        #set the new lowest balance to current user balance\n",
    "        highest = balance\n",
    "print('User with the highest balance')\n",
    "print(user, highest)"
   ]
  },
  {
   "cell_type": "code",
   "execution_count": 37,
   "id": "18f880b0",
   "metadata": {},
   "outputs": [
    {
     "name": "stdout",
     "output_type": "stream",
     "text": [
      "Most common favorite fruit\n",
      "strawberry\n"
     ]
    }
   ],
   "source": [
    "# Most common favorite fruit\n",
    "#create a list of favorite fruits\n",
    "fruit_list = [i.get('favoriteFruit') for i in profiles]\n",
    "print('Most common favorite fruit')\n",
    "#print the max of the fruit_list\n",
    "print(max(fruit_list, key=fruit_list.count))"
   ]
  },
  {
   "cell_type": "code",
   "execution_count": 38,
   "id": "df22878a",
   "metadata": {},
   "outputs": [
    {
     "name": "stdout",
     "output_type": "stream",
     "text": [
      "Least most common favorite fruit\n",
      "banana\n"
     ]
    }
   ],
   "source": [
    "# Least most common favorite fruit\n",
    "fruit_list = [i.get('favoriteFruit') for i in profiles]\n",
    "print('Least most common favorite fruit')\n",
    "#print the min of the fruit_list\n",
    "print(min(fruit_list, key=fruit_list.count))"
   ]
  },
  {
   "cell_type": "code",
   "execution_count": 27,
   "id": "050f5a24",
   "metadata": {},
   "outputs": [
    {
     "name": "stdout",
     "output_type": "stream",
     "text": [
      "Total number of unread messages for all users\n",
      "210\n"
     ]
    }
   ],
   "source": [
    "# Total number of unread messages for all users\n",
    "total_unread = 0\n",
    "for i in profiles:\n",
    "    #get the current username\n",
    "    name = i.get('name')\n",
    "    #get the current greeting, where the unread messages info is displayed\n",
    "    greeting = i.get('greeting')\n",
    "    #create a string to remove the first part of the greeting message\n",
    "    welcome = (f'Hello, {name}! You have ')\n",
    "    #remove everything from the greeting message that isnt the number of unread messages\n",
    "    unread = greeting.replace(welcome, '').replace(' unread messages.','')\n",
    "    #convert the number of unread messages to int and add to total\n",
    "    total_unread += int(unread)\n",
    "print('Total number of unread messages for all users')\n",
    "print(total_unread)"
   ]
  },
  {
   "cell_type": "code",
   "execution_count": 44,
   "id": "632c0723",
   "metadata": {},
   "outputs": [
    {
     "name": "stdout",
     "output_type": "stream",
     "text": [
      "Total number of unread messages for all users\n",
      "210\n"
     ]
    }
   ],
   "source": [
    "total = 0\n",
    "for profile in profiles:\n",
    "    message = profile['greeting']\n",
    "    message_list = message.split(' ')\n",
    "    total += int(message_list[5])\n",
    "print('Total number of unread messages for all users')\n",
    "print(total)"
   ]
  }
 ],
 "metadata": {
  "kernelspec": {
   "display_name": "Python 3 (ipykernel)",
   "language": "python",
   "name": "python3"
  },
  "language_info": {
   "codemirror_mode": {
    "name": "ipython",
    "version": 3
   },
   "file_extension": ".py",
   "mimetype": "text/x-python",
   "name": "python",
   "nbconvert_exporter": "python",
   "pygments_lexer": "ipython3",
   "version": "3.9.13"
  }
 },
 "nbformat": 4,
 "nbformat_minor": 5
}
