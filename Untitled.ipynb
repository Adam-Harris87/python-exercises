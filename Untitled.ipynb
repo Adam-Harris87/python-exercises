{
 "cells": [
  {
   "cell_type": "markdown",
   "id": "4b5a74dd",
   "metadata": {},
   "source": [
    "## Functions\n",
    "functions are the biggest tools we have in python\n",
    "- two flavors:\n",
    "- thing you made\n",
    "- thing someone else made"
   ]
  },
  {
   "cell_type": "code",
   "execution_count": 2,
   "id": "98c6cb42",
   "metadata": {},
   "outputs": [
    {
     "data": {
      "text/plain": [
       "5"
      ]
     },
     "execution_count": 2,
     "metadata": {},
     "output_type": "execute_result"
    }
   ],
   "source": [
    "len('hello')"
   ]
  },
  {
   "cell_type": "markdown",
   "id": "ae39b637",
   "metadata": {},
   "source": [
    "in the first case we have the len() function\n",
    "this has been integrated into the base of python standard library"
   ]
  }
 ],
 "metadata": {
  "kernelspec": {
   "display_name": "Python 3 (ipykernel)",
   "language": "python",
   "name": "python3"
  },
  "language_info": {
   "codemirror_mode": {
    "name": "ipython",
    "version": 3
   },
   "file_extension": ".py",
   "mimetype": "text/x-python",
   "name": "python",
   "nbconvert_exporter": "python",
   "pygments_lexer": "ipython3",
   "version": "3.9.13"
  }
 },
 "nbformat": 4,
 "nbformat_minor": 5
}
