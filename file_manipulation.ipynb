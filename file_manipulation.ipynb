{
 "cells": [
  {
   "cell_type": "markdown",
   "id": "c2f777b9",
   "metadata": {},
   "source": [
    "## reading files\n"
   ]
  },
  {
   "cell_type": "code",
   "execution_count": 9,
   "id": "abfbf390",
   "metadata": {},
   "outputs": [],
   "source": [
    "# the keyword 'open' is reserved for opening files\n",
    "f = open('my_file.txt', 'r')"
   ]
  },
  {
   "cell_type": "code",
   "execution_count": 6,
   "id": "21807548",
   "metadata": {},
   "outputs": [
    {
     "data": {
      "text/plain": [
       "'here is some text\\n'"
      ]
     },
     "execution_count": 6,
     "metadata": {},
     "output_type": "execute_result"
    }
   ],
   "source": [
    "# the read comand will read the contents\n",
    "# f.read()\n",
    "# if we don't store the contents into a variable, python wil read the contents once and\n",
    "# the pointer will be at the end of the file, and return '' the second time this is run\n",
    "contents = f.read()\n",
    "contents"
   ]
  },
  {
   "cell_type": "code",
   "execution_count": 11,
   "id": "ac4de392",
   "metadata": {},
   "outputs": [],
   "source": [
    "#the WITH command is a way to automatically open AND close the file connection\n",
    "# all in one command, as a way to prevent memory leakage\n",
    "with open('my_file.txt', 'r') as f:\n",
    "    my_contents = f.readlines()"
   ]
  },
  {
   "cell_type": "code",
   "execution_count": 12,
   "id": "b9e9ea3f",
   "metadata": {},
   "outputs": [
    {
     "data": {
      "text/plain": [
       "['here is some text\\n']"
      ]
     },
     "execution_count": 12,
     "metadata": {},
     "output_type": "execute_result"
    }
   ],
   "source": [
    "my_contents"
   ]
  },
  {
   "cell_type": "code",
   "execution_count": 13,
   "id": "0008ed8e",
   "metadata": {},
   "outputs": [],
   "source": [
    "# with open ==> file location, interaction type\n",
    "# interaction types: r = read, w = write, a = append mode\n",
    "# append will ADD content to end, write will OVERWRITE content\n",
    "with open('my_new_file.txt', 'w') as f:\n",
    "    f.write('Heres my stuff in a new file')"
   ]
  },
  {
   "cell_type": "code",
   "execution_count": 14,
   "id": "1599832d",
   "metadata": {},
   "outputs": [],
   "source": [
    "with open('my_file.txt', 'a') as f:\n",
    "    f.writelines(['heres a line of text\\n',\n",
    "                 'this is another line\\n'])"
   ]
  },
  {
   "cell_type": "code",
   "execution_count": 16,
   "id": "c8730d6e",
   "metadata": {},
   "outputs": [],
   "source": [
    "import os"
   ]
  },
  {
   "cell_type": "code",
   "execution_count": 18,
   "id": "c1dfd13d",
   "metadata": {},
   "outputs": [
    {
     "name": "stdout",
     "output_type": "stream",
     "text": [
      "yay it exists!\n"
     ]
    }
   ],
   "source": [
    "if os.path.exists('extra_file.txt'):\n",
    "    print('yay it exists!')\n",
    "    with open('extra_file.txt', 'r') as f:\n",
    "        lines = f.readlines()\n",
    "else:\n",
    "    print('file does not exist')\n",
    "    with open('extra_file.txt', 'w') as f:\n",
    "        f.write('brand new file!')"
   ]
  },
  {
   "cell_type": "code",
   "execution_count": 19,
   "id": "ba83fdfc",
   "metadata": {},
   "outputs": [],
   "source": [
    "# lets make a csv\n",
    "with open('baby_csv.csv', 'w') as f:\n",
    "    f.writelines(\n",
    "    ['field_1, field_2, field_3\\n',\n",
    "    '0, 25, ham\\n',\n",
    "    '1, 29, sandwich\\n'])"
   ]
  },
  {
   "cell_type": "code",
   "execution_count": 20,
   "id": "d2a47861",
   "metadata": {},
   "outputs": [],
   "source": [
    "with open('baby_csv.csv', 'r') as f:\n",
    "    my_baby_csv = f.readlines()"
   ]
  },
  {
   "cell_type": "code",
   "execution_count": 22,
   "id": "5aafcbab",
   "metadata": {},
   "outputs": [
    {
     "data": {
      "text/plain": [
       "['field_1, field_2, field_3\\n', '0, 25, ham\\n', '1, 29, sandwich\\n']"
      ]
     },
     "execution_count": 22,
     "metadata": {},
     "output_type": "execute_result"
    }
   ],
   "source": [
    "my_baby_csv"
   ]
  },
  {
   "cell_type": "code",
   "execution_count": 24,
   "id": "a72cea13",
   "metadata": {},
   "outputs": [],
   "source": [
    "# import csv to work with csv in a better way\n",
    "import csv"
   ]
  },
  {
   "cell_type": "code",
   "execution_count": 25,
   "id": "747dff97",
   "metadata": {},
   "outputs": [],
   "source": [
    "# DictWriter, DictReader -- read/write csv files as a list of dictionaries\n",
    "# lets make a reciept\n",
    "# item, category, price\n",
    "cols = ['item', 'category', 'price']\n",
    "transaction = {\n",
    "    'item': 'milk',\n",
    "    'category': 'dairy',\n",
    "    'price': 100.00\n",
    "}"
   ]
  },
  {
   "cell_type": "code",
   "execution_count": 26,
   "id": "6ba662f0",
   "metadata": {},
   "outputs": [
    {
     "data": {
      "text/plain": [
       "{'item': 'milk', 'category': 'dairy', 'price': 100.0}"
      ]
     },
     "execution_count": 26,
     "metadata": {},
     "output_type": "execute_result"
    }
   ],
   "source": [
    "transaction"
   ]
  },
  {
   "cell_type": "code",
   "execution_count": 36,
   "id": "165b2318",
   "metadata": {},
   "outputs": [],
   "source": [
    "# csv.DictWriter needs:\n",
    "# what file its writing to (f)\n",
    "# field names (cols)\n",
    "with open('groceries.csv', 'w') as f:\n",
    "    writer = csv.DictWriter(f, fieldnames=cols)\n",
    "    writer.writeheader()\n",
    "    writer.writerow(transaction)"
   ]
  },
  {
   "cell_type": "code",
   "execution_count": 29,
   "id": "fe15a7c4",
   "metadata": {},
   "outputs": [],
   "source": [
    "# if we now want to add lines to this file, we change the open type to 'a'\n",
    "# so we aren't overwriting everything\n",
    "with open('groceries.csv', 'a') as f:\n",
    "    writer = csv.DictWriter(f, fieldnames=cols)\n",
    "    writer.writerow(\n",
    "    {'item': 'eggs',\n",
    "    'category': 'dairy',\n",
    "    'price': 500.00\n",
    "    })"
   ]
  },
  {
   "cell_type": "code",
   "execution_count": 31,
   "id": "9e380dfa",
   "metadata": {},
   "outputs": [],
   "source": [
    "#read in a csv:\n",
    "with open('groceries.csv', 'r') as f:\n",
    "    content = csv.DictReader(f, fieldnames=cols)\n",
    "    lines = []\n",
    "    for line in content:\n",
    "        lines.append(line)"
   ]
  },
  {
   "cell_type": "code",
   "execution_count": 32,
   "id": "db7a28de",
   "metadata": {},
   "outputs": [
    {
     "data": {
      "text/plain": [
       "[{'item': 'item', 'category': 'category', 'price': 'price'},\n",
       " {'item': 'milk', 'category': 'dairy', 'price': '100.0'},\n",
       " {'item': 'eggs', 'category': 'dairy', 'price': '500.0'}]"
      ]
     },
     "execution_count": 32,
     "metadata": {},
     "output_type": "execute_result"
    }
   ],
   "source": [
    "lines"
   ]
  },
  {
   "cell_type": "code",
   "execution_count": 34,
   "id": "e800d304",
   "metadata": {},
   "outputs": [],
   "source": [
    "#same thing but skipping the header row\n",
    "with open('groceries.csv', 'r') as f:\n",
    "    content = csv.DictReader(f, fieldnames=cols)\n",
    "    lines = [line for line in content][1:]"
   ]
  },
  {
   "cell_type": "code",
   "execution_count": 35,
   "id": "bad7b2fe",
   "metadata": {},
   "outputs": [
    {
     "data": {
      "text/plain": [
       "[{'item': 'milk', 'category': 'dairy', 'price': '100.0'},\n",
       " {'item': 'eggs', 'category': 'dairy', 'price': '500.0'}]"
      ]
     },
     "execution_count": 35,
     "metadata": {},
     "output_type": "execute_result"
    }
   ],
   "source": [
    "lines"
   ]
  },
  {
   "cell_type": "code",
   "execution_count": null,
   "id": "1e982c1b",
   "metadata": {},
   "outputs": [],
   "source": [
    "#exiting a program in python:\n",
    "# exit()"
   ]
  }
 ],
 "metadata": {
  "kernelspec": {
   "display_name": "Python 3 (ipykernel)",
   "language": "python",
   "name": "python3"
  },
  "language_info": {
   "codemirror_mode": {
    "name": "ipython",
    "version": 3
   },
   "file_extension": ".py",
   "mimetype": "text/x-python",
   "name": "python",
   "nbconvert_exporter": "python",
   "pygments_lexer": "ipython3",
   "version": "3.9.13"
  }
 },
 "nbformat": 4,
 "nbformat_minor": 5
}
