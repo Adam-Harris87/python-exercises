{
 "cells": [
  {
   "cell_type": "markdown",
   "id": "43f5844b",
   "metadata": {},
   "source": [
    "## Control structures;\n",
    "### Topic 1: if statements"
   ]
  },
  {
   "cell_type": "code",
   "execution_count": 1,
   "id": "f2cb6465",
   "metadata": {},
   "outputs": [],
   "source": [
    "# if thing true : then do stuff"
   ]
  },
  {
   "cell_type": "code",
   "execution_count": 12,
   "id": "5079d703",
   "metadata": {},
   "outputs": [],
   "source": [
    "had_coffee = True\n",
    "breakfast = 'banana'"
   ]
  },
  {
   "cell_type": "code",
   "execution_count": 4,
   "id": "9d439bc8",
   "metadata": {},
   "outputs": [
    {
     "data": {
      "text/plain": [
       "'coffee'"
      ]
     },
     "execution_count": 4,
     "metadata": {},
     "output_type": "execute_result"
    }
   ],
   "source": [
    "breakfast"
   ]
  },
  {
   "cell_type": "code",
   "execution_count": 15,
   "id": "3c72b1d6",
   "metadata": {},
   "outputs": [
    {
     "name": "stdout",
     "output_type": "stream",
     "text": [
      "you had fruit\n"
     ]
    }
   ],
   "source": [
    "if not had_coffee:\n",
    "    print('you need more caffeine!')\n",
    "elif breakfast == 'banana':\n",
    "    print('you had fruit')\n",
    "else:\n",
    "    print('you had something else')"
   ]
  },
  {
   "cell_type": "code",
   "execution_count": 10,
   "id": "086f1343",
   "metadata": {},
   "outputs": [
    {
     "name": "stdout",
     "output_type": "stream",
     "text": [
      "there was breakfast had\n"
     ]
    }
   ],
   "source": [
    "# if we neglect the conditional, the variable will always produce a true value \n",
    "# if the variable exists\n",
    "if breakfast:\n",
    "    print('there was breakfast had')"
   ]
  },
  {
   "cell_type": "code",
   "execution_count": 16,
   "id": "7378d629",
   "metadata": {},
   "outputs": [
    {
     "ename": "NameError",
     "evalue": "name 'lunch' is not defined",
     "output_type": "error",
     "traceback": [
      "\u001b[0;31m---------------------------------------------------------------------------\u001b[0m",
      "\u001b[0;31mNameError\u001b[0m                                 Traceback (most recent call last)",
      "\u001b[0;32m/var/folders/49/v6sf5vy165dghytk4qv6jfhc0000gn/T/ipykernel_9691/2844306375.py\u001b[0m in \u001b[0;36m<module>\u001b[0;34m\u001b[0m\n\u001b[1;32m      1\u001b[0m \u001b[0;31m# if the variable does not exist, the if statement will break\u001b[0m\u001b[0;34m\u001b[0m\u001b[0;34m\u001b[0m\u001b[0m\n\u001b[0;32m----> 2\u001b[0;31m \u001b[0;32mif\u001b[0m \u001b[0mlunch\u001b[0m\u001b[0;34m:\u001b[0m\u001b[0;34m\u001b[0m\u001b[0;34m\u001b[0m\u001b[0m\n\u001b[0m\u001b[1;32m      3\u001b[0m     \u001b[0mprint\u001b[0m\u001b[0;34m(\u001b[0m\u001b[0;34m'yay lunch'\u001b[0m\u001b[0;34m)\u001b[0m\u001b[0;34m\u001b[0m\u001b[0;34m\u001b[0m\u001b[0m\n",
      "\u001b[0;31mNameError\u001b[0m: name 'lunch' is not defined"
     ]
    }
   ],
   "source": [
    "# if the variable does not exist, the if statement will break\n",
    "if lunch:\n",
    "    print('yay lunch')"
   ]
  },
  {
   "cell_type": "code",
   "execution_count": 18,
   "id": "dba7ee26",
   "metadata": {},
   "outputs": [
    {
     "name": "stdout",
     "output_type": "stream",
     "text": [
      "you need more caffeine!\n"
     ]
    }
   ],
   "source": [
    "# the if statement will exit after the frist condition is met\n",
    "if had_coffee:\n",
    "    print('you need more caffeine!')\n",
    "elif breakfast == 'banana':\n",
    "    print('you had fruit')\n",
    "else:\n",
    "    print('you had something else')"
   ]
  },
  {
   "cell_type": "code",
   "execution_count": 20,
   "id": "855e28dc",
   "metadata": {},
   "outputs": [
    {
     "name": "stdout",
     "output_type": "stream",
     "text": [
      "you need more caffeine!\n",
      "you had fruit\n"
     ]
    }
   ],
   "source": [
    "# so we have to chain multiple if statements to check multiple ifs\n",
    "if had_coffee:\n",
    "    print('you need more caffeine!')\n",
    "if breakfast == 'banana':\n",
    "    print('you had fruit')\n",
    "else:\n",
    "    print('you had something else')"
   ]
  },
  {
   "cell_type": "code",
   "execution_count": 22,
   "id": "575a86c4",
   "metadata": {},
   "outputs": [
    {
     "name": "stdout",
     "output_type": "stream",
     "text": [
      "balanced breakfast\n"
     ]
    }
   ],
   "source": [
    "if had_coffee and breakfast == 'banana':\n",
    "    print('balanced breakfast')\n",
    "else:\n",
    "    print('you had something else')"
   ]
  }
 ],
 "metadata": {
  "kernelspec": {
   "display_name": "Python 3 (ipykernel)",
   "language": "python",
   "name": "python3"
  },
  "language_info": {
   "codemirror_mode": {
    "name": "ipython",
    "version": 3
   },
   "file_extension": ".py",
   "mimetype": "text/x-python",
   "name": "python",
   "nbconvert_exporter": "python",
   "pygments_lexer": "ipython3",
   "version": "3.9.13"
  }
 },
 "nbformat": 4,
 "nbformat_minor": 5
}
