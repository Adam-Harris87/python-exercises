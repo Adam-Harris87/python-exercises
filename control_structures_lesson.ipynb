{
 "cells": [
  {
   "cell_type": "markdown",
   "id": "b1e4e5dc",
   "metadata": {},
   "source": [
    "## Control structures;\n",
    "### Topic 1: if statements"
   ]
  },
  {
   "cell_type": "code",
   "execution_count": 1,
   "id": "63504eef",
   "metadata": {},
   "outputs": [],
   "source": [
    "# if thing true : then do stuff"
   ]
  },
  {
   "cell_type": "code",
   "execution_count": 12,
   "id": "bf121033",
   "metadata": {},
   "outputs": [],
   "source": [
    "had_coffee = True\n",
    "breakfast = 'banana'"
   ]
  },
  {
   "cell_type": "code",
   "execution_count": 4,
   "id": "0d0ae6af",
   "metadata": {},
   "outputs": [
    {
     "data": {
      "text/plain": [
       "'coffee'"
      ]
     },
     "execution_count": 4,
     "metadata": {},
     "output_type": "execute_result"
    }
   ],
   "source": [
    "breakfast"
   ]
  },
  {
   "cell_type": "code",
   "execution_count": 15,
   "id": "8798c1b2",
   "metadata": {},
   "outputs": [
    {
     "name": "stdout",
     "output_type": "stream",
     "text": [
      "you had fruit\n"
     ]
    }
   ],
   "source": [
    "if not had_coffee:\n",
    "    print('you need more caffeine!')\n",
    "elif breakfast == 'banana':\n",
    "    print('you had fruit')\n",
    "else:\n",
    "    print('you had something else')"
   ]
  },
  {
   "cell_type": "code",
   "execution_count": 10,
   "id": "063b0d26",
   "metadata": {},
   "outputs": [
    {
     "name": "stdout",
     "output_type": "stream",
     "text": [
      "there was breakfast had\n"
     ]
    }
   ],
   "source": [
    "# if we neglect the conditional, the variable will always produce a true value \n",
    "# if the variable exists\n",
    "if breakfast:\n",
    "    print('there was breakfast had')"
   ]
  },
  {
   "cell_type": "code",
   "execution_count": 16,
   "id": "78e8be9b",
   "metadata": {},
   "outputs": [
    {
     "ename": "NameError",
     "evalue": "name 'lunch' is not defined",
     "output_type": "error",
     "traceback": [
      "\u001b[0;31m---------------------------------------------------------------------------\u001b[0m",
      "\u001b[0;31mNameError\u001b[0m                                 Traceback (most recent call last)",
      "\u001b[0;32m/var/folders/49/v6sf5vy165dghytk4qv6jfhc0000gn/T/ipykernel_9691/2844306375.py\u001b[0m in \u001b[0;36m<module>\u001b[0;34m\u001b[0m\n\u001b[1;32m      1\u001b[0m \u001b[0;31m# if the variable does not exist, the if statement will break\u001b[0m\u001b[0;34m\u001b[0m\u001b[0;34m\u001b[0m\u001b[0m\n\u001b[0;32m----> 2\u001b[0;31m \u001b[0;32mif\u001b[0m \u001b[0mlunch\u001b[0m\u001b[0;34m:\u001b[0m\u001b[0;34m\u001b[0m\u001b[0;34m\u001b[0m\u001b[0m\n\u001b[0m\u001b[1;32m      3\u001b[0m     \u001b[0mprint\u001b[0m\u001b[0;34m(\u001b[0m\u001b[0;34m'yay lunch'\u001b[0m\u001b[0;34m)\u001b[0m\u001b[0;34m\u001b[0m\u001b[0;34m\u001b[0m\u001b[0m\n",
      "\u001b[0;31mNameError\u001b[0m: name 'lunch' is not defined"
     ]
    }
   ],
   "source": [
    "# if the variable does not exist, the if statement will break\n",
    "if lunch:\n",
    "    print('yay lunch')"
   ]
  },
  {
   "cell_type": "code",
   "execution_count": 18,
   "id": "665a4db2",
   "metadata": {},
   "outputs": [
    {
     "name": "stdout",
     "output_type": "stream",
     "text": [
      "you need more caffeine!\n"
     ]
    }
   ],
   "source": [
    "# the if statement will exit after the frist condition is met\n",
    "if had_coffee:\n",
    "    print('you need more caffeine!')\n",
    "elif breakfast == 'banana':\n",
    "    print('you had fruit')\n",
    "else:\n",
    "    print('you had something else')"
   ]
  },
  {
   "cell_type": "code",
   "execution_count": 20,
   "id": "825d7d52",
   "metadata": {},
   "outputs": [
    {
     "name": "stdout",
     "output_type": "stream",
     "text": [
      "you need more caffeine!\n",
      "you had fruit\n"
     ]
    }
   ],
   "source": [
    "# so we have to chain multiple if statements to check multiple ifs\n",
    "if had_coffee:\n",
    "    print('you need more caffeine!')\n",
    "if breakfast == 'banana':\n",
    "    print('you had fruit')\n",
    "else:\n",
    "    print('you had something else')"
   ]
  },
  {
   "cell_type": "code",
   "execution_count": 22,
   "id": "8141d575",
   "metadata": {},
   "outputs": [
    {
     "name": "stdout",
     "output_type": "stream",
     "text": [
      "balanced breakfast\n"
     ]
    }
   ],
   "source": [
    "if had_coffee and breakfast == 'banana':\n",
    "    print('balanced breakfast')\n",
    "else:\n",
    "    print('you had something else')"
   ]
  },
  {
   "cell_type": "code",
   "execution_count": 23,
   "id": "d5b25330",
   "metadata": {},
   "outputs": [
    {
     "data": {
      "text/plain": [
       "True"
      ]
     },
     "execution_count": 23,
     "metadata": {},
     "output_type": "execute_result"
    }
   ],
   "source": [
    "'a' in 'banana'"
   ]
  },
  {
   "cell_type": "code",
   "execution_count": 24,
   "id": "1d1a116b",
   "metadata": {},
   "outputs": [
    {
     "data": {
      "text/plain": [
       "False"
      ]
     },
     "execution_count": 24,
     "metadata": {},
     "output_type": "execute_result"
    }
   ],
   "source": [
    "'z' in 'banana'"
   ]
  },
  {
   "cell_type": "code",
   "execution_count": 25,
   "id": "1a4b5591",
   "metadata": {},
   "outputs": [
    {
     "data": {
      "text/plain": [
       "True"
      ]
     },
     "execution_count": 25,
     "metadata": {},
     "output_type": "execute_result"
    }
   ],
   "source": [
    "'ana' in 'banana'"
   ]
  },
  {
   "cell_type": "code",
   "execution_count": 26,
   "id": "26eb07f8",
   "metadata": {},
   "outputs": [
    {
     "data": {
      "text/plain": [
       "['b', 'a', 'n', 'a', 'n', 'a']"
      ]
     },
     "execution_count": 26,
     "metadata": {},
     "output_type": "execute_result"
    }
   ],
   "source": [
    "[letter for letter in 'banana']"
   ]
  },
  {
   "cell_type": "code",
   "execution_count": 27,
   "id": "1beb2421",
   "metadata": {},
   "outputs": [
    {
     "data": {
      "text/plain": [
       "['b!', 'a!', 'n!', 'a!', 'n!', 'a!']"
      ]
     },
     "execution_count": 27,
     "metadata": {},
     "output_type": "execute_result"
    }
   ],
   "source": [
    "[letter + '!' for letter in 'banana']"
   ]
  },
  {
   "cell_type": "markdown",
   "id": "fc069464",
   "metadata": {},
   "source": [
    "### Loops"
   ]
  },
  {
   "cell_type": "markdown",
   "id": "478da279",
   "metadata": {},
   "source": [
    "a list comprehension is a short-hand\n",
    "for a for loop\n",
    "\n",
    "a for loop will do an action per every thing inside of an iterable defined in the loop\n",
    "\n",
    "for i in iterable:\n",
    "    do stuff, preferably relating to i\n",
    "    itterate i"
   ]
  },
  {
   "cell_type": "code",
   "execution_count": 29,
   "id": "29ac3e1b",
   "metadata": {},
   "outputs": [
    {
     "data": {
      "text/plain": [
       "186"
      ]
     },
     "execution_count": 29,
     "metadata": {},
     "output_type": "execute_result"
    }
   ],
   "source": [
    "int('ba', 16)"
   ]
  },
  {
   "cell_type": "code",
   "execution_count": 31,
   "id": "b6362c8b",
   "metadata": {},
   "outputs": [
    {
     "data": {
      "text/plain": [
       "362"
      ]
     },
     "execution_count": 31,
     "metadata": {},
     "output_type": "execute_result"
    }
   ],
   "source": [
    "int('ba', 32)"
   ]
  },
  {
   "cell_type": "code",
   "execution_count": 33,
   "id": "dd8a8f50",
   "metadata": {},
   "outputs": [],
   "source": [
    "# if we want to get the documentation for a command\n",
    "# we can use ? after the command such as\n",
    "int?"
   ]
  },
  {
   "cell_type": "markdown",
   "id": "f628b325",
   "metadata": {},
   "source": [
    "while loops will perform an action until a condition is met"
   ]
  },
  {
   "cell_type": "code",
   "execution_count": 39,
   "id": "083f7b4f",
   "metadata": {},
   "outputs": [
    {
     "name": "stdout",
     "output_type": "stream",
     "text": [
      "hi! hilsjd\n",
      "0\n",
      "1\n",
      "hi! lsk\n",
      "1\n",
      "2\n",
      "hi! lsjdjfij\n",
      "2\n",
      "3\n",
      "hi! lii\n",
      "3\n",
      "4\n",
      "hi! iijoj\n",
      "4\n",
      "5\n"
     ]
    }
   ],
   "source": [
    "# initialize response:\n",
    "response = ''\n",
    "counter = 0\n",
    "while response != 'stop_please':\n",
    "    response = input('hi! ')\n",
    "    print(counter)\n",
    "    counter += 1\n",
    "    print(counter)\n",
    "    if counter >= 5: \n",
    "        break"
   ]
  },
  {
   "cell_type": "markdown",
   "id": "ee8d3d0d",
   "metadata": {},
   "source": [
    "### loops in genereal:\n",
    "- under some condition\n",
    "- do some action"
   ]
  },
  {
   "cell_type": "markdown",
   "id": "dfee37b7",
   "metadata": {},
   "source": [
    "#### for loops\n",
    "for every object in this bunch of objects, do a thing\n",
    "\n",
    "#### while loops\n",
    "if a condition is true, do a thing"
   ]
  },
  {
   "cell_type": "code",
   "execution_count": 40,
   "id": "de09fee2",
   "metadata": {},
   "outputs": [],
   "source": [
    "my_fruit_list = ['banana',\n",
    "    'apple', 'mango', \n",
    "    'kiwi']"
   ]
  },
  {
   "cell_type": "code",
   "execution_count": 41,
   "id": "efad841b",
   "metadata": {},
   "outputs": [
    {
     "name": "stdout",
     "output_type": "stream",
     "text": [
      "banana\n",
      "apple\n",
      "mango\n",
      "kiwi\n"
     ]
    }
   ],
   "source": [
    "for item in my_fruit_list:\n",
    "    print(item)"
   ]
  },
  {
   "cell_type": "code",
   "execution_count": 45,
   "id": "a52f49ef",
   "metadata": {},
   "outputs": [
    {
     "name": "stdout",
     "output_type": "stream",
     "text": [
      "0\n",
      "banana\n",
      "1\n",
      "apple\n",
      "2\n",
      "mango\n",
      "3\n",
      "kiwi\n"
     ]
    }
   ],
   "source": [
    "# we can also get both the index and the value by useing enumerate\n",
    "for i, item in enumerate(my_fruit_list):\n",
    "    print(i) \n",
    "    print(item)"
   ]
  },
  {
   "cell_type": "code",
   "execution_count": 46,
   "id": "bd3414e2",
   "metadata": {},
   "outputs": [
    {
     "data": {
      "text/plain": [
       "[(0, 'banana'), (1, 'apple'), (2, 'mango'), (3, 'kiwi')]"
      ]
     },
     "execution_count": 46,
     "metadata": {},
     "output_type": "execute_result"
    }
   ],
   "source": [
    "list(enumerate(my_fruit_list))"
   ]
  },
  {
   "cell_type": "code",
   "execution_count": 49,
   "id": "596d3d0d",
   "metadata": {},
   "outputs": [
    {
     "name": "stdout",
     "output_type": "stream",
     "text": [
      "this fruit is a banana!\n",
      "this fruit is a apple!\n",
      "this fruit is a mango!\n",
      "this fruit is a kiwi!\n"
     ]
    }
   ],
   "source": [
    "for fruit in my_fruit_list:\n",
    "    print(f'this fruit is a {fruit}!')"
   ]
  },
  {
   "cell_type": "code",
   "execution_count": 57,
   "id": "66ba7842",
   "metadata": {},
   "outputs": [
    {
     "name": "stdout",
     "output_type": "stream",
     "text": [
      "bannana\n",
      "this fruit is a banana!\n"
     ]
    }
   ],
   "source": [
    "for fruit in my_fruit_list:\n",
    "    if fruit == 'apple':\n",
    "        continue\n",
    "    if fruit == 'banana':\n",
    "        pass\n",
    "        print('bannana')\n",
    "    if fruit == 'mango':\n",
    "        break\n",
    "    print(f'this fruit is a {fruit}!')"
   ]
  },
  {
   "cell_type": "markdown",
   "id": "11f53f81",
   "metadata": {},
   "source": [
    "#### continue\n",
    "is used to jump to next iteration of for loop after\n",
    "\n",
    "#### break\n",
    "is used to exit out of loop\n",
    "\n",
    "#### pass\n",
    "placeholder for future code - forces past a potential error"
   ]
  },
  {
   "cell_type": "code",
   "execution_count": 66,
   "id": "c4707da0",
   "metadata": {},
   "outputs": [],
   "source": [
    "numbers = [1, 2, 3, 0, 4, 5, 6]"
   ]
  },
  {
   "cell_type": "code",
   "execution_count": 72,
   "id": "971129d7",
   "metadata": {},
   "outputs": [
    {
     "name": "stdout",
     "output_type": "stream",
     "text": [
      "4.0\n",
      "2.0\n",
      "1.3333333333333333\n"
     ]
    },
    {
     "ename": "ZeroDivisionError",
     "evalue": "division by zero",
     "output_type": "error",
     "traceback": [
      "\u001b[0;31m---------------------------------------------------------------------------\u001b[0m",
      "\u001b[0;31mZeroDivisionError\u001b[0m                         Traceback (most recent call last)",
      "\u001b[0;32m/var/folders/49/v6sf5vy165dghytk4qv6jfhc0000gn/T/ipykernel_9691/3248970170.py\u001b[0m in \u001b[0;36m<module>\u001b[0;34m\u001b[0m\n\u001b[1;32m      2\u001b[0m     \u001b[0;32mif\u001b[0m \u001b[0mi\u001b[0m \u001b[0;34m==\u001b[0m \u001b[0;36m0\u001b[0m\u001b[0;34m:\u001b[0m\u001b[0;34m\u001b[0m\u001b[0;34m\u001b[0m\u001b[0m\n\u001b[1;32m      3\u001b[0m         \u001b[0;32mpass\u001b[0m\u001b[0;34m\u001b[0m\u001b[0;34m\u001b[0m\u001b[0m\n\u001b[0;32m----> 4\u001b[0;31m     \u001b[0mprint\u001b[0m\u001b[0;34m(\u001b[0m\u001b[0;36m4\u001b[0m \u001b[0;34m/\u001b[0m \u001b[0mi\u001b[0m\u001b[0;34m)\u001b[0m\u001b[0;34m\u001b[0m\u001b[0;34m\u001b[0m\u001b[0m\n\u001b[0m",
      "\u001b[0;31mZeroDivisionError\u001b[0m: division by zero"
     ]
    }
   ],
   "source": [
    "for i in numbers:\n",
    "    if i == 0:\n",
    "        pass\n",
    "    print(4 / i)"
   ]
  }
 ],
 "metadata": {
  "kernelspec": {
   "display_name": "Python 3 (ipykernel)",
   "language": "python",
   "name": "python3"
  },
  "language_info": {
   "codemirror_mode": {
    "name": "ipython",
    "version": 3
   },
   "file_extension": ".py",
   "mimetype": "text/x-python",
   "name": "python",
   "nbconvert_exporter": "python",
   "pygments_lexer": "ipython3",
   "version": "3.9.13"
  }
 },
 "nbformat": 4,
 "nbformat_minor": 5
}
