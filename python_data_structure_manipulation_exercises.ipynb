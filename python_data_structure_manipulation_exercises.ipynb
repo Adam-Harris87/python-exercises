{
 "cells": [
  {
   "cell_type": "markdown",
   "id": "c24c2995",
   "metadata": {},
   "source": [
    "## 20 Python Data Structure Manipulation Exercises\n",
    "\n",
    "The following questions reference the students data structure below. Write the python code to answer the following questions:"
   ]
  },
  {
   "cell_type": "code",
   "execution_count": 1,
   "id": "ff3b909d",
   "metadata": {},
   "outputs": [],
   "source": [
    "students = [\n",
    "    {\n",
    "        \"id\": \"100001\",\n",
    "        \"student\": \"Ada Lovelace\",\n",
    "        \"coffee_preference\": \"light\",\n",
    "        \"course\": \"web development\",\n",
    "        \"grades\": [70, 91, 82, 71],\n",
    "        \"pets\": [{\"species\": \"horse\", \"age\": 8}],\n",
    "    },\n",
    "    {\n",
    "        \"id\": \"100002\",\n",
    "        \"student\": \"Thomas Bayes\",\n",
    "        \"coffee_preference\": \"medium\",\n",
    "        \"course\": \"data science\",\n",
    "        \"grades\": [75, 73, 86, 100],\n",
    "        \"pets\": [],\n",
    "    },\n",
    "    {\n",
    "        \"id\": \"100003\",\n",
    "        \"student\": \"Marie Curie\",\n",
    "        \"coffee_preference\": \"light\",\n",
    "        \"course\": \"web development\",\n",
    "        \"grades\": [70, 89, 69, 65],\n",
    "        \"pets\": [{\"species\": \"cat\", \"age\": 0}],\n",
    "    },\n",
    "    {\n",
    "        \"id\": \"100004\",\n",
    "        \"student\": \"Grace Hopper\",\n",
    "        \"coffee_preference\": \"dark\",\n",
    "        \"course\": \"data science\",\n",
    "        \"grades\": [73, 66, 83, 92],\n",
    "        \"pets\": [{\"species\": \"dog\", \"age\": 4}, {\"species\": \"cat\", \"age\": 4}],\n",
    "    },\n",
    "    {\n",
    "        \"id\": \"100005\",\n",
    "        \"student\": \"Alan Turing\",\n",
    "        \"coffee_preference\": \"dark\",\n",
    "        \"course\": \"web development\",\n",
    "        \"grades\": [78, 98, 85, 65],\n",
    "        \"pets\": [\n",
    "            {\"species\": \"horse\", \"age\": 6},\n",
    "            {\"species\": \"horse\", \"age\": 7},\n",
    "            {\"species\": \"dog\", \"age\": 5},\n",
    "        ],\n",
    "    },\n",
    "    {\n",
    "        \"id\": \"100006\",\n",
    "        \"student\": \"Rosalind Franklin\",\n",
    "        \"coffee_preference\": \"dark\",\n",
    "        \"course\": \"data science\",\n",
    "        \"grades\": [76, 70, 96, 81],\n",
    "        \"pets\": [],\n",
    "    },\n",
    "    {\n",
    "        \"id\": \"100007\",\n",
    "        \"student\": \"Elizabeth Blackwell\",\n",
    "        \"coffee_preference\": \"dark\",\n",
    "        \"course\": \"web development\",\n",
    "        \"grades\": [69, 94, 89, 86],\n",
    "        \"pets\": [{\"species\": \"cat\", \"age\": 10}],\n",
    "    },\n",
    "    {\n",
    "        \"id\": \"100008\",\n",
    "        \"student\": \"Rene Descartes\",\n",
    "        \"coffee_preference\": \"medium\",\n",
    "        \"course\": \"data science\",\n",
    "        \"grades\": [87, 79, 90, 99],\n",
    "        \"pets\": [{\"species\": \"cat\", \"age\": 10}, {\"species\": \"cat\", \"age\": 8}],\n",
    "    },\n",
    "    {\n",
    "        \"id\": \"100009\",\n",
    "        \"student\": \"Ahmed Zewail\",\n",
    "        \"coffee_preference\": \"medium\",\n",
    "        \"course\": \"data science\",\n",
    "        \"grades\": [74, 99, 93, 89],\n",
    "        \"pets\": [{\"species\": \"cat\", \"age\": 0}, {\"species\": \"cat\", \"age\": 0}],\n",
    "    },\n",
    "    {\n",
    "        \"id\": \"100010\",\n",
    "        \"student\": \"Chien-Shiung Wu\",\n",
    "        \"coffee_preference\": \"medium\",\n",
    "        \"course\": \"web development\",\n",
    "        \"grades\": [82, 92, 91, 65],\n",
    "        \"pets\": [{\"species\": \"cat\", \"age\": 8}],\n",
    "    },\n",
    "    {\n",
    "        \"id\": \"100011\",\n",
    "        \"student\": \"William Sanford Nye\",\n",
    "        \"coffee_preference\": \"dark\",\n",
    "        \"course\": \"data science\",\n",
    "        \"grades\": [70, 92, 65, 99],\n",
    "        \"pets\": [{\"species\": \"cat\", \"age\": 8}, {\"species\": \"cat\", \"age\": 5}],\n",
    "    },\n",
    "    {\n",
    "        \"id\": \"100012\",\n",
    "        \"student\": \"Carl Sagan\",\n",
    "        \"coffee_preference\": \"medium\",\n",
    "        \"course\": \"data science\",\n",
    "        \"grades\": [100, 86, 91, 87],\n",
    "        \"pets\": [{\"species\": \"cat\", \"age\": 10}],\n",
    "    },\n",
    "    {\n",
    "        \"id\": \"100013\",\n",
    "        \"student\": \"Jane Goodall\",\n",
    "        \"coffee_preference\": \"light\",\n",
    "        \"course\": \"web development\",\n",
    "        \"grades\": [80, 70, 68, 98],\n",
    "        \"pets\": [{\"species\": \"horse\", \"age\": 4}],\n",
    "    },\n",
    "    {\n",
    "        \"id\": \"100014\",\n",
    "        \"student\": \"Richard Feynman\",\n",
    "        \"coffee_preference\": \"medium\",\n",
    "        \"course\": \"web development\",\n",
    "        \"grades\": [73, 99, 86, 98],\n",
    "        \"pets\": [{\"species\": \"dog\", \"age\": 6}],\n",
    "    },\n",
    "]"
   ]
  },
  {
   "cell_type": "markdown",
   "id": "a500b2b3",
   "metadata": {},
   "source": [
    "#### 1. How many students are there?"
   ]
  },
  {
   "cell_type": "code",
   "execution_count": 15,
   "id": "da85cb88",
   "metadata": {},
   "outputs": [
    {
     "name": "stdout",
     "output_type": "stream",
     "text": [
      "How many students are there?\n",
      "14\n"
     ]
    }
   ],
   "source": [
    "print('How many students are there?')\n",
    "print(len(students))"
   ]
  },
  {
   "cell_type": "code",
   "execution_count": 24,
   "id": "fa224f83",
   "metadata": {},
   "outputs": [
    {
     "name": "stdout",
     "output_type": "stream",
     "text": [
      "prefer light coffee\n",
      "3\n",
      "prefer medium coffee\n",
      "6\n",
      "prefer dark coffee\n",
      "5\n"
     ]
    }
   ],
   "source": [
    "# 2. How many students prefer light coffee? For each type of coffee roast?\n",
    "print('prefer light coffee')\n",
    "print(len([i for i in students if i.get('coffee_preference') == 'light']))\n",
    "print('prefer medium coffee')\n",
    "print(len([i for i in students if i.get('coffee_preference') == 'medium']))\n",
    "print('prefer dark coffee')\n",
    "print(len([i for i in students if i.get('coffee_preference') == 'dark']))"
   ]
  },
  {
   "cell_type": "code",
   "execution_count": 28,
   "id": "5b3e907b",
   "metadata": {},
   "outputs": [],
   "source": [
    "from collections import Counter"
   ]
  },
  {
   "cell_type": "code",
   "execution_count": 31,
   "id": "d89f6ede",
   "metadata": {},
   "outputs": [
    {
     "name": "stdout",
     "output_type": "stream",
     "text": [
      "Counter({'cat': 11, 'horse': 4, 'dog': 3})\n"
     ]
    }
   ],
   "source": [
    "# 3. How many types of each pet are there?\n",
    "pets = [i.get('pets') for i in students]\n",
    "count = Counter()\n",
    "for pet in pets:\n",
    "    for i in pet:\n",
    "        count[i['species']] += 1\n",
    "print(count)"
   ]
  },
  {
   "cell_type": "code",
   "execution_count": 35,
   "id": "19124910",
   "metadata": {},
   "outputs": [
    {
     "name": "stdout",
     "output_type": "stream",
     "text": [
      "Amount of grades per student\n",
      "[4, 4, 4, 4, 4, 4, 4, 4, 4, 4, 4, 4, 4, 4]\n",
      "They all have the same number\n"
     ]
    }
   ],
   "source": [
    "# 4. How many grades does each student have? Do they all have the same number of grades?\n",
    "grades = [i.get('grades') for i in students]\n",
    "number_of_grades = [len(i) for i in grades]\n",
    "print('Amount of grades per student')\n",
    "print(number_of_grades)\n",
    "print('They all have the same number')"
   ]
  },
  {
   "cell_type": "code",
   "execution_count": 19,
   "id": "a5f5b6a6",
   "metadata": {},
   "outputs": [
    {
     "data": {
      "text/plain": [
       "[78.5,\n",
       " 83.5,\n",
       " 73.25,\n",
       " 78.5,\n",
       " 81.5,\n",
       " 80.75,\n",
       " 84.5,\n",
       " 88.75,\n",
       " 88.75,\n",
       " 82.5,\n",
       " 81.5,\n",
       " 91.0,\n",
       " 79.0,\n",
       " 89.0]"
      ]
     },
     "execution_count": 19,
     "metadata": {},
     "output_type": "execute_result"
    }
   ],
   "source": [
    "# 5. What is each student's grade average?\n",
    "grades = [i['grades'] for i in students]\n",
    "avg_grades = [sum(i)/4 for i in grades]\n",
    "avg_grades"
   ]
  },
  {
   "cell_type": "code",
   "execution_count": 9,
   "id": "f5a9f93a-01e6-49c1-95cf-4c395b4e893d",
   "metadata": {},
   "outputs": [
    {
     "name": "stdout",
     "output_type": "stream",
     "text": [
      "Ada Lovelace\n",
      "1\n",
      "Thomas Bayes\n",
      "0\n",
      "Marie Curie\n",
      "1\n",
      "Grace Hopper\n",
      "2\n",
      "Alan Turing\n",
      "3\n",
      "Rosalind Franklin\n",
      "0\n",
      "Elizabeth Blackwell\n",
      "1\n",
      "Rene Descartes\n",
      "2\n",
      "Ahmed Zewail\n",
      "2\n",
      "Chien-Shiung Wu\n",
      "1\n",
      "William Sanford Nye\n",
      "2\n",
      "Carl Sagan\n",
      "1\n",
      "Jane Goodall\n",
      "1\n",
      "Richard Feynman\n",
      "1\n"
     ]
    }
   ],
   "source": [
    "# 6. How many pets does each student have?\n",
    "for student in students:\n",
    "    print(student['student'])\n",
    "    print(len(student['pets']))"
   ]
  },
  {
   "cell_type": "code",
   "execution_count": 19,
   "id": "99d74625-6ce5-47b9-9818-dcd701619618",
   "metadata": {},
   "outputs": [
    {
     "name": "stdout",
     "output_type": "stream",
     "text": [
      "web development = 7\n",
      "data science = 7\n"
     ]
    }
   ],
   "source": [
    "# 7. How many students are in web development? data science?\n",
    "web_dev = 0\n",
    "ds = 0\n",
    "\n",
    "for student in students:\n",
    "    if student['course'] == 'web development':\n",
    "        web_dev += 1\n",
    "    elif student['course'] == 'data science':\n",
    "        ds += 1\n",
    "print(f'web development = {web_dev}')\n",
    "print(f'data science = {ds}')"
   ]
  },
  {
   "cell_type": "code",
   "execution_count": 21,
   "id": "a6c4e878-c434-4bcf-a6f1-b6692046e061",
   "metadata": {},
   "outputs": [
    {
     "name": "stdout",
     "output_type": "stream",
     "text": [
      "Average number of pets for students in web development = 1.3\n"
     ]
    }
   ],
   "source": [
    "# 8. What is the average number of pets for students in web development?\n",
    "pet_count = 0\n",
    "web_dev = 0\n",
    "\n",
    "for student in students:\n",
    "    if student['course'] == 'web development':\n",
    "        pet_count += len(student['pets'])\n",
    "        web_dev += 1\n",
    "avg = round(pet_count / web_dev, 1)\n",
    "print(f'Average number of pets for students in web development = {avg}')"
   ]
  },
  {
   "cell_type": "code",
   "execution_count": 27,
   "id": "3b308d74-466f-4b7a-8ab0-2997836730aa",
   "metadata": {},
   "outputs": [
    {
     "name": "stdout",
     "output_type": "stream",
     "text": [
      "The average pet age for students in the data science class is: 5.4\n"
     ]
    }
   ],
   "source": [
    "# 9. What is the average pet age for students in data science?\n",
    "pet_count = 0\n",
    "total_age = 0\n",
    "\n",
    "for student in students:\n",
    "    if student['course'] == 'data science':\n",
    "        pet_count += len(student['pets'])\n",
    "        for i in student['pets']:\n",
    "            total_age += i['age']\n",
    "avg = round(total_age / pet_count, 1)\n",
    "print(f'The average pet age for students in the data science class is: {avg}')"
   ]
  },
  {
   "cell_type": "code",
   "execution_count": 38,
   "id": "4ff625ab-2730-4d7b-8cf5-05e93f1d1fa3",
   "metadata": {},
   "outputs": [
    {
     "name": "stdout",
     "output_type": "stream",
     "text": [
      "The most prefered coffee type among data science students is medium\n"
     ]
    }
   ],
   "source": [
    "# 10. What is most frequent coffee preference for data science students?\n",
    "light = len([i for i in students if (i['coffee_preference'] == 'light') \n",
    "    & (i['course'] == 'data science')])\n",
    "med = len([i for i in students if (i['coffee_preference'] == 'medium') \n",
    "    & (i['course'] == 'data science')])\n",
    "dark = len([i for i in students if (i['coffee_preference'] == 'dark') \n",
    "    & (i['course'] == 'data science')])\n",
    "pref = {'light':light, 'medium':med, 'dark':dark}\n",
    "print(f'The most prefered coffee type among data science students is {max(pref)}')"
   ]
  },
  {
   "cell_type": "code",
   "execution_count": 39,
   "id": "08dd7adf-dfd3-458b-902f-7174a1487e43",
   "metadata": {},
   "outputs": [
    {
     "name": "stdout",
     "output_type": "stream",
     "text": [
      "The least prefered coffee type among web development students is dark\n"
     ]
    }
   ],
   "source": [
    "# 11. What is the least frequent coffee preference for web development students?\n",
    "light = len([i for i in students if (i['coffee_preference'] == 'light') \n",
    "    & (i['course'] == 'web development')])\n",
    "med = len([i for i in students if (i['coffee_preference'] == 'medium') \n",
    "    & (i['course'] == 'web development')])\n",
    "dark = len([i for i in students if (i['coffee_preference'] == 'dark') \n",
    "    & (i['course'] == 'web development')])\n",
    "pref = {'light':light, 'medium':med, 'dark':dark}\n",
    "print(f'The least prefered coffee type among web development students is {min(pref)}')"
   ]
  },
  {
   "cell_type": "code",
   "execution_count": 45,
   "id": "6fca834a-7738-4b69-810b-60913e2678ee",
   "metadata": {},
   "outputs": [
    {
     "name": "stdout",
     "output_type": "stream",
     "text": [
      "the average grade for students with at least 2 pets is: 83.8\n"
     ]
    }
   ],
   "source": [
    "# 12. What is the average grade for students with at least 2 pets?\n",
    "students_with_2_pets = [i for i in students if len(i['pets']) >= 2]\n",
    "total_grade = 0\n",
    "for student in students_with_2_pets:\n",
    "    total_grade += sum(student['grades'])\n",
    "avg = round(total_grade / (len(students_with_2_pets) * 4), 1)\n",
    "print(f'the average grade for students with at least 2 pets is: {avg}')"
   ]
  },
  {
   "cell_type": "code",
   "execution_count": 47,
   "id": "ede05983-24f3-458d-a529-82d4a9259ba6",
   "metadata": {},
   "outputs": [
    {
     "name": "stdout",
     "output_type": "stream",
     "text": [
      "amount of students with 3 pets\n",
      "1\n"
     ]
    }
   ],
   "source": [
    "# 13. How many students have 3 pets?\n",
    "print('amount of students with 3 pets')\n",
    "print(len([i for i in students if len(i['pets']) == 3]))"
   ]
  },
  {
   "cell_type": "code",
   "execution_count": 48,
   "id": "0ac73eba-a704-4390-9b8a-dfa0b094d3a7",
   "metadata": {},
   "outputs": [
    {
     "name": "stdout",
     "output_type": "stream",
     "text": [
      "the average grade for students with 0 pets is: 82.1\n"
     ]
    }
   ],
   "source": [
    "# 14. What is the average grade for students with 0 pets?\n",
    "students_with_0_pets = [i for i in students if len(i['pets']) == 0]\n",
    "total_grade = 0\n",
    "for student in students_with_0_pets:\n",
    "    total_grade += sum(student['grades'])\n",
    "avg = round(total_grade / (len(students_with_0_pets) * 4), 1)\n",
    "print(f'the average grade for students with 0 pets is: {avg}')"
   ]
  },
  {
   "cell_type": "code",
   "execution_count": null,
   "id": "abbaa606-fd95-4394-a4bf-1969faa2bc60",
   "metadata": {},
   "outputs": [],
   "source": [
    "# 15. What is the average grade for web development students? data science students?\n"
   ]
  },
  {
   "cell_type": "code",
   "execution_count": null,
   "id": "92d5bb3c-45d9-4788-90cf-94bff24bddca",
   "metadata": {},
   "outputs": [],
   "source": [
    "# 16. What is the average grade range (i.e. highest grade - lowest grade) \n",
    "# for dark coffee drinkers?\n"
   ]
  },
  {
   "cell_type": "code",
   "execution_count": null,
   "id": "3eace111-6b7a-4d2f-8d57-4de6de86553b",
   "metadata": {},
   "outputs": [],
   "source": [
    "# 17. What is the average number of pets for medium coffee drinkers?\n"
   ]
  },
  {
   "cell_type": "code",
   "execution_count": null,
   "id": "6d7deb1c-79d9-4fbd-842e-736c7ffc21bf",
   "metadata": {},
   "outputs": [],
   "source": [
    "# 18. What is the most common type of pet for web development students?\n"
   ]
  },
  {
   "cell_type": "code",
   "execution_count": null,
   "id": "03155d70-7a7c-4c86-9c7c-9459b2b84e4d",
   "metadata": {},
   "outputs": [],
   "source": [
    "# 19. What is the average name length?\n"
   ]
  },
  {
   "cell_type": "code",
   "execution_count": null,
   "id": "31e17570-2364-4760-96f8-af7eda946b95",
   "metadata": {},
   "outputs": [],
   "source": [
    "# 20. What is the highest pet age for light coffee drinkers?\n"
   ]
  }
 ],
 "metadata": {
  "kernelspec": {
   "display_name": "Python 3 (ipykernel)",
   "language": "python",
   "name": "python3"
  },
  "language_info": {
   "codemirror_mode": {
    "name": "ipython",
    "version": 3
   },
   "file_extension": ".py",
   "mimetype": "text/x-python",
   "name": "python",
   "nbconvert_exporter": "python",
   "pygments_lexer": "ipython3",
   "version": "3.9.13"
  }
 },
 "nbformat": 4,
 "nbformat_minor": 5
}
