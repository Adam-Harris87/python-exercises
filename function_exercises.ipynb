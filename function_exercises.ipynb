{
 "cells": [
  {
   "cell_type": "markdown",
   "id": "3e106868",
   "metadata": {},
   "source": [
    "#### 1. Define a function named is_two. It should accept one input and return True if the passed input is either the number or the string 2, False otherwise."
   ]
  },
  {
   "cell_type": "code",
   "execution_count": 229,
   "id": "69aa797f",
   "metadata": {},
   "outputs": [],
   "source": [
    "def is_two(thing):\n",
    "    '''\n",
    "    This function will check if the input is the integer 2 or the string '2'\n",
    "    '''\n",
    "    # check if the input is either the int 2, float 2.0 or str '2'\n",
    "    if thing == 2 or thing == 2.0 or thing == '2':\n",
    "        # return function as true if 2\n",
    "        return True\n",
    "    # for all inputs that are not 2\n",
    "    else:\n",
    "        # return false if not 2\n",
    "        return False"
   ]
  },
  {
   "cell_type": "code",
   "execution_count": 230,
   "id": "b0505db9",
   "metadata": {},
   "outputs": [
    {
     "name": "stdout",
     "output_type": "stream",
     "text": [
      "False\n",
      "True\n",
      "False\n",
      "True\n"
     ]
    }
   ],
   "source": [
    "print(is_two('potato'))\n",
    "print(is_two(2))\n",
    "print(is_two(7))\n",
    "print(is_two(2.0))"
   ]
  },
  {
   "cell_type": "markdown",
   "id": "1d517c80",
   "metadata": {},
   "source": [
    "#### 2. Define a function named is_vowel. It should return True if the passed string is a vowel, False otherwise."
   ]
  },
  {
   "cell_type": "code",
   "execution_count": 245,
   "id": "5708164b",
   "metadata": {},
   "outputs": [],
   "source": [
    "def is_vowel(letter):\n",
    "    '''\n",
    "    Checks if the input letter is a vowel\n",
    "    '''\n",
    "    # check if input is vowel and return true if vowel\n",
    "    if type(letter) == str and len(letter) == 1:\n",
    "        return letter.lower() in ['a', 'e', 'i', 'o', 'u']\n",
    "    else: return False"
   ]
  },
  {
   "cell_type": "code",
   "execution_count": 243,
   "id": "41c578a4",
   "metadata": {},
   "outputs": [
    {
     "name": "stdout",
     "output_type": "stream",
     "text": [
      "False\n",
      "True\n",
      "False\n",
      "False\n"
     ]
    }
   ],
   "source": [
    "print(is_vowel('4'))\n",
    "print(is_vowel('a'))\n",
    "print(is_vowel('g'))\n",
    "print(is_vowel(['a', '4', 'g']))"
   ]
  },
  {
   "cell_type": "markdown",
   "id": "c3fe6ce3",
   "metadata": {},
   "source": [
    "#### 3. Define a function named is_consonant. It should return True if the passed string is a consonant, False otherwise. Use your is_vowel function to accomplish this."
   ]
  },
  {
   "cell_type": "code",
   "execution_count": 248,
   "id": "ce0ea4b8",
   "metadata": {},
   "outputs": [],
   "source": [
    "def is_consonant(letter):\n",
    "    '''\n",
    "    Check if input letter is a consonant by checking if it is a vowel\n",
    "    '''\n",
    "    # input letter into is_vowel function\n",
    "    if not is_vowel(letter) and letter.isalpha() and len(letter) == 1:\n",
    "        # if letter is not a vowel, it is consonant\n",
    "        return True\n",
    "    # for all vowels\n",
    "    else:\n",
    "        # return false if letter is a vowel\n",
    "        return False"
   ]
  },
  {
   "cell_type": "code",
   "execution_count": 249,
   "id": "07f66ce5",
   "metadata": {},
   "outputs": [
    {
     "name": "stdout",
     "output_type": "stream",
     "text": [
      "False\n",
      "True\n",
      "False\n"
     ]
    }
   ],
   "source": [
    "print(is_consonant('5'))\n",
    "print(is_consonant('p'))\n",
    "print(is_consonant('potato'))"
   ]
  },
  {
   "cell_type": "markdown",
   "id": "6e5be4aa",
   "metadata": {},
   "source": [
    "#### 4. Define a function that accepts a string that is a word. The function should capitalize the first letter of the word if the word starts with a consonant."
   ]
  },
  {
   "cell_type": "code",
   "execution_count": 250,
   "id": "dd0b9640",
   "metadata": {},
   "outputs": [],
   "source": [
    "def title_case_consonant(word):\n",
    "    '''\n",
    "    Function will capitalize first letter of input word if word begins with a consonant\n",
    "    '''\n",
    "    # check if first letter is_consonant by passing to the is_consonant function\n",
    "    if is_consonant(word[0]):\n",
    "        # change word to title case if first letter is consonant\n",
    "        word = word.title()\n",
    "        # return the capitalized word\n",
    "        return word"
   ]
  },
  {
   "cell_type": "markdown",
   "id": "ab2a4ea4",
   "metadata": {},
   "source": [
    "#### 5. Define a function named calculate_tip. It should accept a tip percentage (a number between 0 and 1) and the bill total, and return the amount to tip."
   ]
  },
  {
   "cell_type": "code",
   "execution_count": 104,
   "id": "df701312",
   "metadata": {},
   "outputs": [],
   "source": [
    "def calculate_tip(tip_percent, bill_total):\n",
    "    '''\n",
    "    Will calculate tip amount by multiplying the bill_total by the desired tip percentage\n",
    "    '''\n",
    "    # return the bill total multiplied by the tip percentage\n",
    "    return bill_total * tip_percent"
   ]
  },
  {
   "cell_type": "markdown",
   "id": "33c79f61",
   "metadata": {},
   "source": [
    "#### 6. Define a function named apply_discount. It should accept a original price, and a discount percentage, and return the price after the discount is applied."
   ]
  },
  {
   "cell_type": "code",
   "execution_count": 259,
   "id": "9caf47d9",
   "metadata": {},
   "outputs": [],
   "source": [
    "def apply_discount(original_price, discount_percent=0):\n",
    "    '''\n",
    "    This will calculate a discounted price given an original price and a desired discount\n",
    "    '''\n",
    "    # returns the original price minus (the original price multiplied by discount percentage)\n",
    "    return original_price - (original_price * discount_percent)"
   ]
  },
  {
   "cell_type": "markdown",
   "id": "4d0ff24c",
   "metadata": {},
   "source": [
    "#### 7. Define a function named handle_commas. It should accept a string that is a number that contains commas in it as input, and return a number as output."
   ]
  },
  {
   "cell_type": "code",
   "execution_count": 273,
   "id": "4e15df40",
   "metadata": {},
   "outputs": [],
   "source": [
    "def handle_commas(starting_string):\n",
    "    '''\n",
    "    This will remove commas from an integer inputed as a string\n",
    "    '''\n",
    "    # replace commas in string with nothing\n",
    "    num = starting_string.replace(',','')\n",
    "    # convert output variable to int\n",
    "    num = int(num)\n",
    "    # return the output variable\n",
    "    return num"
   ]
  },
  {
   "cell_type": "code",
   "execution_count": 272,
   "id": "9cf71d50",
   "metadata": {},
   "outputs": [
    {
     "name": "stdout",
     "output_type": "stream",
     "text": [
      "5300689\n"
     ]
    }
   ],
   "source": [
    "print(handle_commas('5,300,689'))"
   ]
  },
  {
   "cell_type": "markdown",
   "id": "1756096d",
   "metadata": {},
   "source": [
    "#### 8. Define a function named get_letter_grade. It should accept a number and return the letter grade associated with that number (A-F)."
   ]
  },
  {
   "cell_type": "code",
   "execution_count": 107,
   "id": "742f0701",
   "metadata": {},
   "outputs": [],
   "source": [
    "def get_letter_grade(num):\n",
    "    '''\n",
    "    This will convert a numerical grade into a letter grade\n",
    "    '''\n",
    "    # check if the grade was greater than or equal to 90\n",
    "    if num >= 90:\n",
    "        # return letter grade as 'A'\n",
    "        return 'A'\n",
    "    # check if the grade was between 80 and 89\n",
    "    elif num >= 80:\n",
    "        # return letter grade as 'B'\n",
    "        return 'B'\n",
    "    # check if the grade was between 70 and 79\n",
    "    elif num >= 70:\n",
    "        # return letter grade as 'C'\n",
    "        return 'C'\n",
    "    # check if the grade was between 60 and 69\n",
    "    elif num >= 60:\n",
    "        # return letter grade as 'D'\n",
    "        return 'D'\n",
    "    # for grades below 60\n",
    "    else:\n",
    "        # return F as letter grade\n",
    "        return 'F'"
   ]
  },
  {
   "cell_type": "markdown",
   "id": "9da78f33",
   "metadata": {},
   "source": [
    "#### 9. Define a function named remove_vowels that accepts a string and returns a string with all the vowels removed"
   ]
  },
  {
   "cell_type": "code",
   "execution_count": 108,
   "id": "d1e5f589",
   "metadata": {},
   "outputs": [],
   "source": [
    "def remove_vowels(string):\n",
    "    '''\n",
    "    This will check each letter in a string and return an output string with vowels removed\n",
    "    '''\n",
    "    # split string into letters\n",
    "    string = list(string)\n",
    "    # create a temp output variable\n",
    "    output = ''\n",
    "    # step through each letter in the string\n",
    "    for letter in string:\n",
    "        # check if letter is a vowel by sending to function is_vowel\n",
    "        if not is_vowel(letter):\n",
    "            # if letter is not a vowel, add it to the output variable\n",
    "            output = output + letter\n",
    "    #return the completed output variable\n",
    "    return output"
   ]
  },
  {
   "cell_type": "markdown",
   "id": "d05af376",
   "metadata": {},
   "source": [
    "#### 10.Define a function named normalize_name. It should accept a string and return a valid python identifier, that is:\n",
    "- anything that is not a valid python identifier should be removed\n",
    "- leading and trailing whitespace should be removed\n",
    "- everything should be lowercase\n",
    "- spaces should be replaced with underscores\n",
    "- for example:\n",
    " - Name will become name\n",
    " - First Name will become first_name\n",
    " - % Completed will become completed"
   ]
  },
  {
   "cell_type": "code",
   "execution_count": 109,
   "id": "e3845a15",
   "metadata": {},
   "outputs": [],
   "source": [
    "def normalize_name(string):\n",
    "    '''\n",
    "    This will convert an input string into a valid Python identifier string\n",
    "    '''\n",
    "    # remove leading and trailing whitespace, then convert string to lowercase\n",
    "    string = string.lstrip().rstrip().lower()\n",
    "    # split string into characters\n",
    "    string = list(string)\n",
    "    # create temp output variable\n",
    "    output = ''\n",
    "    # step through each character in the string\n",
    "    for n in string:\n",
    "        # check if the character is a space\n",
    "        if n == ' ':\n",
    "            # if character is space, replace with underscore\n",
    "            output = output + '_'\n",
    "        # check if character is a digit, and not in the first postion of output\n",
    "        elif output != '' and n.isdigit():\n",
    "            # add digit to output string\n",
    "            output = output + n\n",
    "        # check if character is valid Python identifier character\n",
    "        elif str.isidentifier(n):\n",
    "            # add valid character to output string\n",
    "            output = output + n\n",
    "    # return completed output string\n",
    "    return output"
   ]
  },
  {
   "cell_type": "markdown",
   "id": "772fa16c",
   "metadata": {},
   "source": [
    "#### 11. Write a function named cumulative_sum that accepts a list of numbers and returns a list that is the cumulative sum of the numbers in the list.\n",
    "- cumulative_sum([1, 1, 1]) returns [1, 2, 3]\n",
    "- cumulative_sum([1, 2, 3, 4]) returns [1, 3, 6, 10]"
   ]
  },
  {
   "cell_type": "code",
   "execution_count": 110,
   "id": "dc10217a",
   "metadata": {},
   "outputs": [],
   "source": [
    "def cumulative_sum(num_list):\n",
    "    '''\n",
    "    This will give the cumulative sum for each number in a list of numbers\n",
    "    '''\n",
    "    # create temp variable to hold cumulative sum\n",
    "    num = 0\n",
    "    # create temp output list \n",
    "    output = []\n",
    "    # step through each number in input list\n",
    "    for n in num_list:\n",
    "        # add input number to cumulative sum\n",
    "        num = num + n\n",
    "        # add cumulative sum to output list\n",
    "        output.append(num)\n",
    "    # return completed output list\n",
    "    return output"
   ]
  },
  {
   "cell_type": "markdown",
   "id": "351adc93",
   "metadata": {},
   "source": [
    "#### Bonus 1. Create a function named twelveto24. It should accept a string in the format 10:45am or 4:30pm and return a string that is the representation of the time in a 24-hour format. \n",
    "Bonus write a function that does the opposite."
   ]
  },
  {
   "cell_type": "code",
   "execution_count": 255,
   "id": "b33ce519",
   "metadata": {},
   "outputs": [],
   "source": [
    "def twelveto24(time):\n",
    "    '''\n",
    "    This will take in a time in 12 hour format, then return the time in 24 hour format\n",
    "    '''\n",
    "    # create temp variable to store hours\n",
    "    hours = ''\n",
    "    # create temp variable to store minutes\n",
    "    minutes = ''\n",
    "    # create bool to tell if looking at hours or minutes\n",
    "    is_hours = True\n",
    "    # split time into list of digits\n",
    "    time = list(time)\n",
    "    # step through the digits of the input time\n",
    "    for n in time:\n",
    "        # check if the digit is the ':' character dividing hours and minutes\n",
    "        if n == ':':\n",
    "            # change is_hours to false\n",
    "            is_hours = False\n",
    "        # check if digit is either A of AM\n",
    "        elif n == 'a' or n == 'A':\n",
    "            #check if hours is 12AM, which converts to 00 in 24 hour format\n",
    "            if hours == '12':\n",
    "                # convert 12AM to 00 hour\n",
    "                hours = '00'\n",
    "                # return hours and minutes in 24 hour format\n",
    "                return hours + ':' + minutes\n",
    "                # check if hours is single digit\n",
    "            elif len(hours) == 1:\n",
    "                # add leading 0 to single digit hours\n",
    "                hours = '0' + hours\n",
    "                # return hours and minutes in 24 hour format\n",
    "                return hours + ':' + minutes\n",
    "            else: return hours + ':' + minutes\n",
    "        # check if digit is P of PM\n",
    "        elif n == 'p' or n == 'P':\n",
    "            # if 12pm then add 11 to the hours\n",
    "            if hours == '12':\n",
    "                # return hours and minutes in 24 hour format\n",
    "                return hours + ':' + minutes\n",
    "            # if pm and not 12pm then add 12 to the hours\n",
    "            else:\n",
    "                # convert hours to int so we can add to it\n",
    "                hours = int(hours) + 12\n",
    "                # convert hours back into string\n",
    "                hours = str(hours)\n",
    "                # return hours and minutes in 24 hour format\n",
    "                return hours + ':' + minutes\n",
    "        # if digit is in the hour part of 12 hour time\n",
    "        elif is_hours:\n",
    "            # add hours digit to output hours\n",
    "            hours = hours + n\n",
    "        # if digit is in the minutes part of 12 hour time\n",
    "        elif not is_hours:\n",
    "            # add minutes value to minutes output\n",
    "            minutes = minutes + n"
   ]
  },
  {
   "cell_type": "code",
   "execution_count": 258,
   "id": "020c869e",
   "metadata": {},
   "outputs": [
    {
     "name": "stdout",
     "output_type": "stream",
     "text": [
      "00:34\n",
      "02:34\n",
      "11:34\n",
      "12:34\n",
      "14:34\n",
      "22:34\n"
     ]
    }
   ],
   "source": [
    "print(twelveto24('12:34am'))\n",
    "print(twelveto24('2:34am'))\n",
    "print(twelveto24('11:34am'))\n",
    "print(twelveto24('12:34pm'))\n",
    "print(twelveto24('2:34pm'))\n",
    "print(twelveto24('10:34pm'))"
   ]
  },
  {
   "cell_type": "markdown",
   "id": "068a026c",
   "metadata": {},
   "source": [
    "#### Bonus write a function that does the opposite."
   ]
  },
  {
   "cell_type": "code",
   "execution_count": 300,
   "id": "1d0203e1",
   "metadata": {},
   "outputs": [],
   "source": [
    "def twentyfourto12(time):\n",
    "    time = list(time)\n",
    "    hours = ''\n",
    "    mins = ''\n",
    "    is_hours = True\n",
    "    for n in time:\n",
    "        if n == ':':\n",
    "            is_hours = False\n",
    "        elif is_hours:\n",
    "            hours = hours + n\n",
    "        else:\n",
    "            mins = mins + n\n",
    "    hours = int(hours)\n",
    "    if hours == 0:\n",
    "        hours = 12\n",
    "        ampm = 'am'\n",
    "    elif hours == 12:\n",
    "        ampm = 'pm'\n",
    "    elif hours > 12:\n",
    "        hours = hours - 12\n",
    "        ampm = 'pm'\n",
    "    else:\n",
    "        ampm = 'am'\n",
    "        \n",
    "    hours = str(hours)\n",
    "    return hours + ':' + mins + ampm"
   ]
  },
  {
   "cell_type": "code",
   "execution_count": 301,
   "id": "54fad01d",
   "metadata": {},
   "outputs": [
    {
     "name": "stdout",
     "output_type": "stream",
     "text": [
      "12:44am\n",
      "4:44am\n",
      "11:44am\n",
      "12:44pm\n",
      "6:44pm\n",
      "11:44pm\n"
     ]
    }
   ],
   "source": [
    "print(twentyfourto12('00:44'))\n",
    "print(twentyfourto12('04:44'))\n",
    "print(twentyfourto12('11:44'))\n",
    "print(twentyfourto12('12:44'))\n",
    "print(twentyfourto12('18:44'))\n",
    "print(twentyfourto12('23:44'))"
   ]
  },
  {
   "cell_type": "markdown",
   "id": "fdcb30d2",
   "metadata": {},
   "source": [
    "#### Bonus 2. Create a function named col_index. It should accept a spreadsheet column name, and return the index number of the column.\n",
    "- col_index('A') returns 1\n",
    "- col_index('B') returns 2\n",
    "- col_index('AA') returns 27"
   ]
  },
  {
   "cell_type": "code",
   "execution_count": 219,
   "id": "25033461",
   "metadata": {},
   "outputs": [],
   "source": [
    "def col_index(name):\n",
    "    '''\n",
    "    This will convert a letter column name into a number index\n",
    "    It works similar to converting a binary or hexidecimal number to base-10\n",
    "    The letter is converted to a base-36 number \n",
    "    then subtract 9 (to remove the 0-9 values of base 36)\n",
    "    then the value is multilied by a 26 ** (position from the right) \n",
    "    '''\n",
    "    # convert input name to lowercase and split it into a list\n",
    "    name = list(name.lower())\n",
    "    # reverse the order of the list in order to make it easier to multiply position value\n",
    "    reverse_list = list(reversed(name))\n",
    "    # create temp variable\n",
    "    index = 0\n",
    "    # loop through letters in reversed form of name, giving the letter and index in list\n",
    "    for i, item in enumerate(reverse_list):\n",
    "        # add to output variable 26 ** the index position * letter converted to digit\n",
    "        index = index + ((26 ** i) * (int(item, 36) - 9))\n",
    "    # return the temp variable\n",
    "    return index"
   ]
  },
  {
   "cell_type": "code",
   "execution_count": 231,
   "id": "567b1ab5",
   "metadata": {},
   "outputs": [
    {
     "name": "stdout",
     "output_type": "stream",
     "text": [
      "735\n",
      "735\n"
     ]
    }
   ],
   "source": [
    "test = 'abg'\n",
    "test_out = col_index(test)\n",
    "print(test_out)\n",
    "print(26 ** 2 * 1 + 26 ** 1 * 2 + 26 ** 0 * 7)"
   ]
  }
 ],
 "metadata": {
  "kernelspec": {
   "display_name": "Python 3 (ipykernel)",
   "language": "python",
   "name": "python3"
  },
  "language_info": {
   "codemirror_mode": {
    "name": "ipython",
    "version": 3
   },
   "file_extension": ".py",
   "mimetype": "text/x-python",
   "name": "python",
   "nbconvert_exporter": "python",
   "pygments_lexer": "ipython3",
   "version": "3.9.13"
  }
 },
 "nbformat": 4,
 "nbformat_minor": 5
}
