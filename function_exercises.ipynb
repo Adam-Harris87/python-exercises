{
 "cells": [
  {
   "cell_type": "markdown",
   "id": "145374e6",
   "metadata": {},
   "source": [
    "#### 1. Define a function named is_two. It should accept one input and return True if the passed input is either the number or the string 2, False otherwise."
   ]
  },
  {
   "cell_type": "code",
   "execution_count": 100,
   "id": "7acfdbc8",
   "metadata": {},
   "outputs": [],
   "source": [
    "def is_two(thing):\n",
    "    '''\n",
    "    This function will check if the input is the integer 2 or the string '2'\n",
    "    '''\n",
    "    # check if the input is either the int 2 or str '2'\n",
    "    if thing == 2 or thing == '2':\n",
    "        # return function as true if 2\n",
    "        return True\n",
    "    # for all inputs that are not 2\n",
    "    else:\n",
    "        # return false if not 2\n",
    "        return False"
   ]
  },
  {
   "cell_type": "markdown",
   "id": "de87a4af",
   "metadata": {},
   "source": [
    "#### 2. Define a function named is_vowel. It should return True if the passed string is a vowel, False otherwise."
   ]
  },
  {
   "cell_type": "code",
   "execution_count": 101,
   "id": "aef0e860",
   "metadata": {},
   "outputs": [],
   "source": [
    "def is_vowel(letter):\n",
    "    '''\n",
    "    Checks if the input letter is a vowel\n",
    "    '''\n",
    "    # check if input is vowel\n",
    "    if letter.lower() in ['a', 'e', 'i', 'o', 'u']:\n",
    "        # return true if vowel\n",
    "        return True\n",
    "    # for all things not a vowel\n",
    "    else:\n",
    "        # return false if not a vowel\n",
    "        return False"
   ]
  },
  {
   "cell_type": "markdown",
   "id": "6486f58d",
   "metadata": {},
   "source": [
    "#### 3. Define a function named is_consonant. It should return True if the passed string is a consonant, False otherwise. Use your is_vowel function to accomplish this."
   ]
  },
  {
   "cell_type": "code",
   "execution_count": 102,
   "id": "c8b3575c",
   "metadata": {},
   "outputs": [],
   "source": [
    "def is_consonant(letter):\n",
    "    '''\n",
    "    Check if input letter is a consonant by checking if it is a vowel\n",
    "    '''\n",
    "    # input letter into is_vowel function\n",
    "    if not is_vowel(letter):\n",
    "        # if letter is not a vowel, it is consonant\n",
    "        return True\n",
    "    # for all vowels\n",
    "    else:\n",
    "        # return false if letter is a vowel\n",
    "        return False"
   ]
  },
  {
   "cell_type": "markdown",
   "id": "1d95fae0",
   "metadata": {},
   "source": [
    "#### 4. Define a function that accepts a string that is a word. The function should capitalize the first letter of the word if the word starts with a consonant."
   ]
  },
  {
   "cell_type": "code",
   "execution_count": 103,
   "id": "ca536e19",
   "metadata": {},
   "outputs": [],
   "source": [
    "def title_case_consonant(word):\n",
    "    '''\n",
    "    Function will capitalize first letter of input word if word begins with a consonant\n",
    "    '''\n",
    "    # check if first letter is_consonant by passing to the is_consonant function\n",
    "    if is_consonant(word[0]):\n",
    "        # change word to title case if first letter is consonant\n",
    "        word = word.title()\n",
    "        # return the capitalized word\n",
    "        return word"
   ]
  },
  {
   "cell_type": "markdown",
   "id": "db39d90c",
   "metadata": {},
   "source": [
    "#### 5. Define a function named calculate_tip. It should accept a tip percentage (a number between 0 and 1) and the bill total, and return the amount to tip."
   ]
  },
  {
   "cell_type": "code",
   "execution_count": 104,
   "id": "4c076a26",
   "metadata": {},
   "outputs": [],
   "source": [
    "def calculate_tip(tip_percent, bill_total):\n",
    "    '''\n",
    "    Will calculate tip amount by multiplying the bill_total by the desired tip percentage\n",
    "    '''\n",
    "    # return the bill total multiplied by the tip percentage\n",
    "    return bill_total * tip_percent"
   ]
  },
  {
   "cell_type": "markdown",
   "id": "4dfddfc1",
   "metadata": {},
   "source": [
    "#### 6. Define a function named apply_discount. It should accept a original price, and a discount percentage, and return the price after the discount is applied."
   ]
  },
  {
   "cell_type": "code",
   "execution_count": 105,
   "id": "8f28f074",
   "metadata": {},
   "outputs": [],
   "source": [
    "def apply_discount(original_price, discount_percent):\n",
    "    '''\n",
    "    This will calculate a discounted price given an original price and a desired discount\n",
    "    '''\n",
    "    # returns the original price minus (the original price multiplied by discount percentage)\n",
    "    return original_price - (original_price * discount_percent)"
   ]
  },
  {
   "cell_type": "markdown",
   "id": "d5de8e0e",
   "metadata": {},
   "source": [
    "#### 7. Define a function named handle_commas. It should accept a string that is a number that contains commas in it as input, and return a number as output."
   ]
  },
  {
   "cell_type": "code",
   "execution_count": 106,
   "id": "60e04475",
   "metadata": {},
   "outputs": [],
   "source": [
    "def handle_commas(starting_string):\n",
    "    '''\n",
    "    This will remove commas from a number inputed as a string\n",
    "    '''\n",
    "    # split the input string into a list\n",
    "    digits = list(starting_string)\n",
    "    # create a temp output variable\n",
    "    num = ''\n",
    "    # step through the list form of input string\n",
    "    for n in digits:\n",
    "        # check if current digit of input number is a comma\n",
    "        if n != ',':\n",
    "            # if not a comma, add digit to output variable\n",
    "            num = num + n\n",
    "    # convert output variable to int\n",
    "    num = int(num)\n",
    "    # return the output variable\n",
    "    return num"
   ]
  },
  {
   "cell_type": "markdown",
   "id": "94a57b27",
   "metadata": {},
   "source": [
    "#### 8. Define a function named get_letter_grade. It should accept a number and return the letter grade associated with that number (A-F)."
   ]
  },
  {
   "cell_type": "code",
   "execution_count": 107,
   "id": "3d46f795",
   "metadata": {},
   "outputs": [],
   "source": [
    "def get_letter_grade(num):\n",
    "    '''\n",
    "    This will convert a numerical grade into a letter grade\n",
    "    '''\n",
    "    # check if the grade was greater than or equal to 90\n",
    "    if num >= 90:\n",
    "        # return letter grade as 'A'\n",
    "        return 'A'\n",
    "    # check if the grade was between 80 and 89\n",
    "    elif num >= 80:\n",
    "        # return letter grade as 'B'\n",
    "        return 'B'\n",
    "    # check if the grade was between 70 and 79\n",
    "    elif num >= 70:\n",
    "        # return letter grade as 'C'\n",
    "        return 'C'\n",
    "    # check if the grade was between 60 and 69\n",
    "    elif num >= 60:\n",
    "        # return letter grade as 'D'\n",
    "        return 'D'\n",
    "    # for grades below 60\n",
    "    else:\n",
    "        # return F as letter grade\n",
    "        return 'F'"
   ]
  },
  {
   "cell_type": "markdown",
   "id": "d76e6f38",
   "metadata": {},
   "source": [
    "#### 9. Define a function named remove_vowels that accepts a string and returns a string with all the vowels removed"
   ]
  },
  {
   "cell_type": "code",
   "execution_count": 68,
   "id": "ca655d0f",
   "metadata": {},
   "outputs": [],
   "source": [
    "def remove_vowels(string):\n",
    "    string = list(string)\n",
    "    output = ''\n",
    "    for letter in string:\n",
    "        if not is_vowel(letter):\n",
    "            output = output + letter\n",
    "    return output"
   ]
  },
  {
   "cell_type": "markdown",
   "id": "3cfbe961",
   "metadata": {},
   "source": [
    "#### 10.Define a function named normalize_name. It should accept a string and return a valid python identifier, that is:\n",
    "- anything that is not a valid python identifier should be removed\n",
    "- leading and trailing whitespace should be removed\n",
    "- everything should be lowercase\n",
    "- spaces should be replaced with underscores\n",
    "- for example:\n",
    " - Name will become name\n",
    " - First Name will become first_name\n",
    " - % Completed will become completed"
   ]
  },
  {
   "cell_type": "code",
   "execution_count": 85,
   "id": "74f4f2b7",
   "metadata": {},
   "outputs": [],
   "source": [
    "def normalize_name(string):\n",
    "    string = string.lstrip().rstrip().lower()\n",
    "    string = list(string)\n",
    "    output = ''\n",
    "    for n in string:\n",
    "        if n == ' ':\n",
    "            output = output + '_'\n",
    "        elif output != '' and n.isdigit():\n",
    "            output = output + n\n",
    "        elif str.isidentifier(n):\n",
    "            output = output + n\n",
    "    return output"
   ]
  },
  {
   "cell_type": "markdown",
   "id": "70d1684c",
   "metadata": {},
   "source": [
    "#### 11. Write a function named cumulative_sum that accepts a list of numbers and returns a list that is the cumulative sum of the numbers in the list.\n",
    "- cumulative_sum([1, 1, 1]) returns [1, 2, 3]\n",
    "- cumulative_sum([1, 2, 3, 4]) returns [1, 3, 6, 10]"
   ]
  },
  {
   "cell_type": "code",
   "execution_count": 87,
   "id": "270cdffb",
   "metadata": {},
   "outputs": [],
   "source": [
    "def cumulative_sum(num_list):\n",
    "    num = 0\n",
    "    output = []\n",
    "    for n in num_list:\n",
    "        num = num + n\n",
    "        output.append(num)\n",
    "    return output"
   ]
  },
  {
   "cell_type": "code",
   "execution_count": 99,
   "id": "bf97f133",
   "metadata": {},
   "outputs": [
    {
     "data": {
      "text/plain": [
       "False"
      ]
     },
     "execution_count": 99,
     "metadata": {},
     "output_type": "execute_result"
    }
   ],
   "source": [
    "test = is_two(4)\n",
    "test"
   ]
  }
 ],
 "metadata": {
  "kernelspec": {
   "display_name": "Python 3 (ipykernel)",
   "language": "python",
   "name": "python3"
  },
  "language_info": {
   "codemirror_mode": {
    "name": "ipython",
    "version": 3
   },
   "file_extension": ".py",
   "mimetype": "text/x-python",
   "name": "python",
   "nbconvert_exporter": "python",
   "pygments_lexer": "ipython3",
   "version": "3.9.13"
  }
 },
 "nbformat": 4,
 "nbformat_minor": 5
}
