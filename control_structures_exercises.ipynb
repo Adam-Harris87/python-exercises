{
 "cells": [
  {
   "cell_type": "markdown",
   "id": "d342e850",
   "metadata": {},
   "source": [
    "### 1. Conditional Basics\n",
    "\n",
    "A. Prompt the user for a day of the week, print out whether the day is Monday or not"
   ]
  },
  {
   "cell_type": "code",
   "execution_count": 1,
   "id": "7b8956fb",
   "metadata": {},
   "outputs": [
    {
     "name": "stdout",
     "output_type": "stream",
     "text": [
      "Enter a day of the week monday\n",
      "The day is Monday\n"
     ]
    }
   ],
   "source": [
    "day = input('Enter a day of the week ')\n",
    "if day.lower() == 'monday':\n",
    "    print('The day is Monday')\n",
    "else:\n",
    "    print('It is not Monday, yay.')"
   ]
  },
  {
   "cell_type": "markdown",
   "id": "974cabb8",
   "metadata": {},
   "source": [
    "B. Prompt the user for a day of the week, print out whether the day is a weekday or a weekend"
   ]
  },
  {
   "cell_type": "code",
   "execution_count": 2,
   "id": "59fe7059",
   "metadata": {},
   "outputs": [
    {
     "name": "stdout",
     "output_type": "stream",
     "text": [
      "Enter a day of the week tuesday\n",
      "It is a weekday\n"
     ]
    }
   ],
   "source": [
    "day = input('Enter a day of the week ')\n",
    "if day.lower() in ('saturday', 'sunday'):\n",
    "    print('It is the weekend')\n",
    "elif day.lower() in ('monday', 'tuesday', 'wednesday', 'thursday', 'friday'):\n",
    "    print('It is a weekday')\n",
    "else:\n",
    "    print('That is not a day')"
   ]
  },
  {
   "cell_type": "markdown",
   "id": "eb9779d7",
   "metadata": {},
   "source": [
    "C. Create variables and make up values for\n",
    "- The number of hours worked in one week\n",
    "- The hourly rate\n",
    "- How much the week's paycheck will be\n",
    "\n",
    "Write the python code that calculates the weekly paycheck. You get paid time and a half if you work more than 40 hours."
   ]
  },
  {
   "cell_type": "code",
   "execution_count": 3,
   "id": "08375f7b",
   "metadata": {},
   "outputs": [],
   "source": [
    "hours_worked = 47.4\n",
    "hourly_rate = 18.25\n",
    "weekly_paycheck = 0"
   ]
  },
  {
   "cell_type": "code",
   "execution_count": 4,
   "id": "f036c7e7",
   "metadata": {},
   "outputs": [
    {
     "name": "stdout",
     "output_type": "stream",
     "text": [
      "1067.62\n"
     ]
    }
   ],
   "source": [
    "if hours_worked <= 40:\n",
    "    weekly_paycheck = hours_worked * hourly_rate\n",
    "else:\n",
    "    weekly_paycheck = (hours_worked - 40) * 1.5 * hourly_rate + \\\n",
    "        hours_worked * hourly_rate\n",
    "weekly_paycheck = round(weekly_paycheck, 2)\n",
    "print(weekly_paycheck)"
   ]
  },
  {
   "cell_type": "markdown",
   "id": "2495a87e",
   "metadata": {},
   "source": [
    "### 2. Loop Basics\n",
    "\n",
    "A. While\n",
    "1. Create an integer variable i with a value of 5. Create a while loop that runs so long as i is less than or equal to 15. Each loop iteration, output the current value of i, then increment i by one.\n",
    "\n",
    "Your output should look like this:\n",
    "```\n",
    "5\n",
    "6\n",
    "7\n",
    "8\n",
    "9\n",
    "10\n",
    "11\n",
    "12\n",
    "13\n",
    "14\n",
    "15\n",
    "```"
   ]
  },
  {
   "cell_type": "code",
   "execution_count": 5,
   "id": "989aeba2",
   "metadata": {},
   "outputs": [
    {
     "name": "stdout",
     "output_type": "stream",
     "text": [
      "5\n",
      "6\n",
      "7\n",
      "8\n",
      "9\n",
      "10\n",
      "11\n",
      "12\n",
      "13\n",
      "14\n",
      "15\n"
     ]
    }
   ],
   "source": [
    "i = 5\n",
    "while i <= 15:\n",
    "    print(i)\n",
    "    i += 1"
   ]
  },
  {
   "cell_type": "markdown",
   "id": "fd8e6a50",
   "metadata": {},
   "source": [
    "2. Create a while loop that will count by 2's starting with 0 and ending at 100. Follow each number with a new line."
   ]
  },
  {
   "cell_type": "code",
   "execution_count": 6,
   "id": "f8ba3515",
   "metadata": {},
   "outputs": [
    {
     "name": "stdout",
     "output_type": "stream",
     "text": [
      "0\n",
      "2\n",
      "4\n",
      "6\n",
      "8\n",
      "10\n",
      "12\n",
      "14\n",
      "16\n",
      "18\n",
      "20\n",
      "22\n",
      "24\n",
      "26\n",
      "28\n",
      "30\n",
      "32\n",
      "34\n",
      "36\n",
      "38\n",
      "40\n",
      "42\n",
      "44\n",
      "46\n",
      "48\n",
      "50\n",
      "52\n",
      "54\n",
      "56\n",
      "58\n",
      "60\n",
      "62\n",
      "64\n",
      "66\n",
      "68\n",
      "70\n",
      "72\n",
      "74\n",
      "76\n",
      "78\n",
      "80\n",
      "82\n",
      "84\n",
      "86\n",
      "88\n",
      "90\n",
      "92\n",
      "94\n",
      "96\n",
      "98\n",
      "100\n"
     ]
    }
   ],
   "source": [
    "i = 0\n",
    "while i <= 100:\n",
    "    print(i)\n",
    "    i += 2"
   ]
  },
  {
   "cell_type": "markdown",
   "id": "81a3bc84",
   "metadata": {},
   "source": [
    "3. Alter your loop to count backwards by 5's from 100 to -10"
   ]
  },
  {
   "cell_type": "code",
   "execution_count": 7,
   "id": "1679f17d",
   "metadata": {},
   "outputs": [
    {
     "name": "stdout",
     "output_type": "stream",
     "text": [
      "100\n",
      "95\n",
      "90\n",
      "85\n",
      "80\n",
      "75\n",
      "70\n",
      "65\n",
      "60\n",
      "55\n",
      "50\n",
      "45\n",
      "40\n",
      "35\n",
      "30\n",
      "25\n",
      "20\n",
      "15\n",
      "10\n",
      "5\n",
      "0\n",
      "-5\n",
      "-10\n"
     ]
    }
   ],
   "source": [
    "i = 100\n",
    "while i >= -10:\n",
    "    print(i)\n",
    "    i -= 5"
   ]
  },
  {
   "cell_type": "markdown",
   "id": "27bf6338",
   "metadata": {},
   "source": [
    "4. Create a while loop that starts at 2, and displays the number squared on each line while the number is less than 1,000,000. Output should equal:\n",
    "\n",
    "```\n",
    " 2\n",
    " 4\n",
    " 16\n",
    " 256\n",
    " 65536\n",
    " ```"
   ]
  },
  {
   "cell_type": "code",
   "execution_count": 8,
   "id": "69154213",
   "metadata": {},
   "outputs": [
    {
     "name": "stdout",
     "output_type": "stream",
     "text": [
      "2\n",
      "4\n",
      "16\n",
      "256\n",
      "65536\n"
     ]
    }
   ],
   "source": [
    "i = 2\n",
    "while i <= 1000000:\n",
    "    print(i)\n",
    "    i = i ** 2"
   ]
  },
  {
   "cell_type": "markdown",
   "id": "d10c524a",
   "metadata": {},
   "source": [
    "5. Write a loop that uses print to create the output shown below.\n",
    "\n",
    "```\n",
    "100\n",
    "95\n",
    "90\n",
    "85\n",
    "80\n",
    "75\n",
    "70\n",
    "65\n",
    "60\n",
    "55\n",
    "50\n",
    "45\n",
    "40\n",
    "35\n",
    "30\n",
    "25\n",
    "20\n",
    "15\n",
    "10\n",
    "5\n",
    "```"
   ]
  },
  {
   "cell_type": "code",
   "execution_count": 9,
   "id": "31e6e5a1",
   "metadata": {},
   "outputs": [
    {
     "name": "stdout",
     "output_type": "stream",
     "text": [
      "100\n",
      "95\n",
      "90\n",
      "85\n",
      "80\n",
      "75\n",
      "70\n",
      "65\n",
      "60\n",
      "55\n",
      "50\n",
      "45\n",
      "40\n",
      "35\n",
      "30\n",
      "25\n",
      "20\n",
      "15\n",
      "10\n",
      "5\n"
     ]
    }
   ],
   "source": [
    "i = 100\n",
    "while i >= 5:\n",
    "    print(i)\n",
    "    i -= 5"
   ]
  },
  {
   "cell_type": "markdown",
   "id": "991b8978",
   "metadata": {},
   "source": [
    "### B. For Loops\n",
    "\n",
    "1. Write some code that prompts the user for a number, then shows a multiplication table up through 10 for that number.\n",
    "\n",
    "For example, if the user enters 7, your program should output:\n",
    "```\n",
    "7 x 1 = 7\n",
    "7 x 2 = 14\n",
    "7 x 3 = 21\n",
    "7 x 4 = 28\n",
    "7 x 5 = 35\n",
    "7 x 6 = 42\n",
    "7 x 7 = 49\n",
    "7 x 8 = 56\n",
    "7 x 9 = 63\n",
    "7 x 10 = 70\n",
    "```"
   ]
  },
  {
   "cell_type": "code",
   "execution_count": 10,
   "id": "8268a7bc",
   "metadata": {},
   "outputs": [
    {
     "name": "stdout",
     "output_type": "stream",
     "text": [
      "Enter a number: 3\n",
      "3 x 1 = 3\n",
      "3 x 2 = 6\n",
      "3 x 3 = 9\n",
      "3 x 4 = 12\n",
      "3 x 5 = 15\n",
      "3 x 6 = 18\n",
      "3 x 7 = 21\n",
      "3 x 8 = 24\n",
      "3 x 9 = 27\n",
      "3 x 10 = 30\n"
     ]
    }
   ],
   "source": [
    "try:\n",
    "    num = int(input('Enter a number: '))\n",
    "    for i in range(10):\n",
    "        print(f'{num} x {i + 1} = {(i + 1) * num}')\n",
    "except ValueError:\n",
    "    print('Only enter an integer!')"
   ]
  },
  {
   "cell_type": "markdown",
   "id": "8cdd8378",
   "metadata": {},
   "source": [
    "2. Create a for loop that uses print to create the output shown below.\n",
    "\n",
    "```\n",
    "1\n",
    "22\n",
    "333\n",
    "4444\n",
    "55555\n",
    "666666\n",
    "7777777\n",
    "88888888\n",
    "999999999\n",
    "```"
   ]
  },
  {
   "cell_type": "code",
   "execution_count": 11,
   "id": "7a2ce008",
   "metadata": {},
   "outputs": [
    {
     "name": "stdout",
     "output_type": "stream",
     "text": [
      "\n",
      "1\n",
      "22\n",
      "333\n",
      "4444\n",
      "55555\n",
      "666666\n",
      "7777777\n",
      "88888888\n",
      "999999999\n"
     ]
    }
   ],
   "source": [
    "for i in range(10):\n",
    "    print(i * str(i))"
   ]
  },
  {
   "cell_type": "markdown",
   "id": "2a62ceeb",
   "metadata": {},
   "source": [
    "#### C. break and continue\n",
    "\n",
    "1. Write a program that prompts the user for a positive integer. Next write a loop that prints out the numbers from the number the user entered down to 1."
   ]
  },
  {
   "cell_type": "code",
   "execution_count": 22,
   "id": "a0e21206",
   "metadata": {},
   "outputs": [],
   "source": [
    "def ask_for_positive_integer():\n",
    "    num = input('Enter a positive integer: ')\n",
    "    while not num.isdigit() and num < 1:\n",
    "        num = input('Enter a positive integer: ')\n",
    "        continue\n",
    "        num = int(num)\n",
    "        while num < 1:\n",
    "            num = input('Enter a positive integer: ')\n",
    "    return num"
   ]
  },
  {
   "cell_type": "code",
   "execution_count": 23,
   "id": "459844d6",
   "metadata": {},
   "outputs": [
    {
     "name": "stdout",
     "output_type": "stream",
     "text": [
      "Enter a positive integer: foaj\n",
      "Enter a positive integer: asoifj\n",
      "Enter a positive integer: aosdifj\n",
      "Enter a positive integer: aosdf\n",
      "Enter a positive integer: -4\n",
      "Enter a positive integer: -4\n",
      "Enter a positive integer: -4\n",
      "Enter a positive integer: alsdjf\n",
      "Enter a positive integer: \n",
      "Enter a positive integer: asdflj\n",
      "Enter a positive integer: 0\n"
     ]
    },
    {
     "ename": "TypeError",
     "evalue": "'>=' not supported between instances of 'str' and 'int'",
     "output_type": "error",
     "traceback": [
      "\u001b[0;31m---------------------------------------------------------------------------\u001b[0m",
      "\u001b[0;31mTypeError\u001b[0m                                 Traceback (most recent call last)",
      "\u001b[0;32m/var/folders/49/v6sf5vy165dghytk4qv6jfhc0000gn/T/ipykernel_10072/3603480867.py\u001b[0m in \u001b[0;36m<module>\u001b[0;34m\u001b[0m\n\u001b[1;32m      1\u001b[0m \u001b[0mnum\u001b[0m \u001b[0;34m=\u001b[0m \u001b[0mask_for_positive_integer\u001b[0m\u001b[0;34m(\u001b[0m\u001b[0;34m)\u001b[0m\u001b[0;34m\u001b[0m\u001b[0;34m\u001b[0m\u001b[0m\n\u001b[0;32m----> 2\u001b[0;31m \u001b[0;32mwhile\u001b[0m \u001b[0mnum\u001b[0m \u001b[0;34m>=\u001b[0m \u001b[0;36m1\u001b[0m\u001b[0;34m:\u001b[0m\u001b[0;34m\u001b[0m\u001b[0;34m\u001b[0m\u001b[0m\n\u001b[0m\u001b[1;32m      3\u001b[0m     \u001b[0mprint\u001b[0m\u001b[0;34m(\u001b[0m\u001b[0mnum\u001b[0m\u001b[0;34m)\u001b[0m\u001b[0;34m\u001b[0m\u001b[0;34m\u001b[0m\u001b[0m\n\u001b[1;32m      4\u001b[0m     \u001b[0mnum\u001b[0m \u001b[0;34m-=\u001b[0m \u001b[0;36m1\u001b[0m\u001b[0;34m\u001b[0m\u001b[0;34m\u001b[0m\u001b[0m\n",
      "\u001b[0;31mTypeError\u001b[0m: '>=' not supported between instances of 'str' and 'int'"
     ]
    }
   ],
   "source": [
    "num = ask_for_positive_integer()\n",
    "while num >= 1:\n",
    "    print(num)\n",
    "    num -= 1"
   ]
  },
  {
   "cell_type": "markdown",
   "id": "ccbcb999",
   "metadata": {},
   "source": [
    "2. The input function can be used to prompt for input and use that input in your python code. Prompt the user to enter a positive number and write a loop that counts from 0 to that number. (Hints: note that the input function returns a string, so you'll need to convert this to a numeric type.)"
   ]
  },
  {
   "cell_type": "code",
   "execution_count": 14,
   "id": "71ddec96",
   "metadata": {},
   "outputs": [
    {
     "name": "stdout",
     "output_type": "stream",
     "text": [
      "Enter a positive integer: 7\n",
      "1\n",
      "2\n",
      "3\n",
      "4\n",
      "5\n",
      "6\n",
      "7\n"
     ]
    }
   ],
   "source": [
    "num = ask_for_positive_integer()\n",
    "i = 1\n",
    "while i <= num:\n",
    "    print(i)\n",
    "    i += 1"
   ]
  },
  {
   "cell_type": "markdown",
   "id": "a118d546",
   "metadata": {},
   "source": [
    "3. Prompt the user for an odd number between 1 and 50. Use a loop and a break statement to continue prompting the user if they enter invalid input. (Hint: use the isdigit method on strings to determine this). Use a loop and the continue statement to output all the odd numbers between 1 and 50, except for the number the user entered.\n",
    "\n",
    "Your output should look like this:\n",
    "\n",
    "```\n",
    "Number to skip is: 27\n",
    "\n",
    "Here is an odd number: 1\n",
    "Here is an odd number: 3\n",
    "Here is an odd number: 5\n",
    "Here is an odd number: 7\n",
    "Here is an odd number: 9\n",
    "Here is an odd number: 11\n",
    "Here is an odd number: 13\n",
    "Here is an odd number: 15\n",
    "Here is an odd number: 17\n",
    "Here is an odd number: 19\n",
    "Here is an odd number: 21\n",
    "Here is an odd number: 23\n",
    "Here is an odd number: 25\n",
    "Yikes! Skipping number: 27\n",
    "Here is an odd number: 29\n",
    "Here is an odd number: 31\n",
    "Here is an odd number: 33\n",
    "Here is an odd number: 35\n",
    "Here is an odd number: 37\n",
    "Here is an odd number: 39\n",
    "Here is an odd number: 41\n",
    "Here is an odd number: 43\n",
    "Here is an odd number: 45\n",
    "Here is an odd number: 47\n",
    "Here is an odd number: 49\n",
    "```"
   ]
  },
  {
   "cell_type": "code",
   "execution_count": 25,
   "id": "4a575c20",
   "metadata": {},
   "outputs": [],
   "source": [
    "def ask_for_odd_positive_number():\n",
    "    num = input('Enter an odd positive integer: ')\n",
    "    while not num.isdigit():\n",
    "        num = input('Enter an odd positive integer: ')\n",
    "    num = int(num)\n",
    "    while num < 1:\n",
    "        num = input('Enter an odd positive integer: ')\n",
    "    while num % 2 == 0:\n",
    "        num = input('Enter an odd positive integer: ')\n",
    "    return num"
   ]
  },
  {
   "cell_type": "code",
   "execution_count": 27,
   "id": "c2c4a1ba",
   "metadata": {},
   "outputs": [
    {
     "name": "stdout",
     "output_type": "stream",
     "text": [
      "Enter an odd positive integer: 3\n",
      "Here is an odd number: 1\n",
      "Yikes! Skipping number: 3\n",
      "Here is an odd number: 5\n",
      "Here is an odd number: 7\n",
      "Here is an odd number: 9\n",
      "Here is an odd number: 11\n",
      "Here is an odd number: 13\n",
      "Here is an odd number: 15\n",
      "Here is an odd number: 17\n",
      "Here is an odd number: 19\n",
      "Here is an odd number: 21\n",
      "Here is an odd number: 23\n",
      "Here is an odd number: 25\n",
      "Here is an odd number: 27\n",
      "Here is an odd number: 29\n",
      "Here is an odd number: 31\n",
      "Here is an odd number: 33\n",
      "Here is an odd number: 35\n",
      "Here is an odd number: 37\n",
      "Here is an odd number: 39\n",
      "Here is an odd number: 41\n",
      "Here is an odd number: 43\n",
      "Here is an odd number: 45\n",
      "Here is an odd number: 47\n",
      "Here is an odd number: 49\n"
     ]
    }
   ],
   "source": [
    "num = ask_for_odd_positive_number()\n",
    "for i in range(50):\n",
    "    if i == num:\n",
    "        print(f'Yikes! Skipping number: {num}')\n",
    "        continue\n",
    "    elif i % 2 == 1:\n",
    "        print(f'Here is an odd number: {i}')"
   ]
  },
  {
   "cell_type": "markdown",
   "id": "146ac4ca",
   "metadata": {},
   "source": [
    "### 3. Fizzbuzz\n",
    "\n",
    "One of the most common interview questions for entry-level programmers is the FizzBuzz test. Developed by Imran Ghory, the test is designed to test basic looping and conditional logic skills.\n",
    "\n",
    "- Write a program that prints the numbers from 1 to 100.\n",
    "- For multiples of three print \"Fizz\" instead of the number\n",
    "- For the multiples of five print \"Buzz\".\n",
    "- For numbers which are multiples of both three and five print \"FizzBuzz\"."
   ]
  },
  {
   "cell_type": "code",
   "execution_count": 38,
   "id": "52a8cf77",
   "metadata": {},
   "outputs": [
    {
     "name": "stdout",
     "output_type": "stream",
     "text": [
      "1\n",
      "2\n",
      "Fizz\n",
      "4\n",
      "Buzz\n",
      "Fizz\n",
      "7\n",
      "8\n",
      "Fizz\n",
      "Buzz\n",
      "11\n",
      "Fizz\n",
      "13\n",
      "14\n",
      "FizzBuzz\n",
      "16\n",
      "17\n",
      "Fizz\n",
      "19\n",
      "Buzz\n",
      "Fizz\n",
      "22\n",
      "23\n",
      "Fizz\n",
      "Buzz\n",
      "26\n",
      "Fizz\n",
      "28\n",
      "29\n",
      "FizzBuzz\n",
      "31\n",
      "32\n",
      "Fizz\n",
      "34\n",
      "Buzz\n",
      "Fizz\n",
      "37\n",
      "38\n",
      "Fizz\n",
      "Buzz\n",
      "41\n",
      "Fizz\n",
      "43\n",
      "44\n",
      "FizzBuzz\n",
      "46\n",
      "47\n",
      "Fizz\n",
      "49\n",
      "Buzz\n",
      "Fizz\n",
      "52\n",
      "53\n",
      "Fizz\n",
      "Buzz\n",
      "56\n",
      "Fizz\n",
      "58\n",
      "59\n",
      "FizzBuzz\n",
      "61\n",
      "62\n",
      "Fizz\n",
      "64\n",
      "Buzz\n",
      "Fizz\n",
      "67\n",
      "68\n",
      "Fizz\n",
      "Buzz\n",
      "71\n",
      "Fizz\n",
      "73\n",
      "74\n",
      "FizzBuzz\n",
      "76\n",
      "77\n",
      "Fizz\n",
      "79\n",
      "Buzz\n",
      "Fizz\n",
      "82\n",
      "83\n",
      "Fizz\n",
      "Buzz\n",
      "86\n",
      "Fizz\n",
      "88\n",
      "89\n",
      "FizzBuzz\n",
      "91\n",
      "92\n",
      "Fizz\n",
      "94\n",
      "Buzz\n",
      "Fizz\n",
      "97\n",
      "98\n",
      "Fizz\n",
      "Buzz\n"
     ]
    }
   ],
   "source": [
    "for i in range(100):\n",
    "    n = i + 1\n",
    "    if n % 15 == 0:\n",
    "        print('FizzBuzz')\n",
    "    elif n % 3 == 0:\n",
    "        print('Fizz')\n",
    "    elif n % 5 == 0:\n",
    "        print('Buzz')\n",
    "    else:\n",
    "        print(n)"
   ]
  },
  {
   "cell_type": "markdown",
   "id": "22c9875e",
   "metadata": {},
   "source": [
    "### 4. Display a table of powers.\n",
    "\n",
    "- Prompt the user to enter an integer\n",
    "- Display a table of squares and cubes from 1 to the value entered\n",
    "- Ask if the user wants to continue\n",
    "- Assume that the user will enter valid data\n",
    "- Only continue if the user agrees to\n",
    "- Bonus: Research python's format string specifiers to align the table\n",
    "\n",
    "Example Output\n",
    "```\n",
    "What number would you like to go up to? 5\n",
    "Here is your table!\n",
    "\n",
    "number | squared | cubed\n",
    "------ | ------- | -----\n",
    "1      | 1       | 1\n",
    "2      | 4       | 8\n",
    "3      | 9       | 27\n",
    "4      | 16      | 64\n",
    "5      | 25      | 125\n",
    "```\n"
   ]
  },
  {
   "cell_type": "code",
   "execution_count": 72,
   "id": "6bc6a344",
   "metadata": {},
   "outputs": [],
   "source": [
    "def ask_for_integer():\n",
    "    num = input('Enter an integer: ')\n",
    "    while not num.isdigit():\n",
    "        num = input('Enter an integer: ')\n",
    "    return num\n",
    "def ask_to_continue():\n",
    "    while True:\n",
    "        repeat = input('Would you like to repeat? ')\n",
    "        if repeat.lower() == 'true' or repeat == 'yes' or repeat == 'y':\n",
    "            return True\n",
    "        elif repeat.lower() == 'false' or repeat == 'no' or repeat == 'n':\n",
    "            return False\n",
    "        else:\n",
    "            continue"
   ]
  },
  {
   "cell_type": "code",
   "execution_count": 76,
   "id": "1c8febc1",
   "metadata": {},
   "outputs": [
    {
     "name": "stdout",
     "output_type": "stream",
     "text": [
      "Enter an integer: 3\n",
      "number | squared | cubed\n",
      "1 | 1 | 1\n",
      "number | squared | cubed\n",
      "2 | 4 | 8\n",
      "number | squared | cubed\n",
      "3 | 9 | 27\n",
      "Would you like to repeat? n\n"
     ]
    }
   ],
   "source": [
    "repeat = True\n",
    "while repeat:\n",
    "    num = ask_for_integer() # change to all int\n",
    "    num = int(num)\n",
    "\n",
    "    for i in range(num):\n",
    "        n = i + 1\n",
    "        squared = n ** 2\n",
    "        cubed = n ** 3\n",
    "        print('number | squared | cubed')\n",
    "        print(n, '|', squared, '|', cubed)\n",
    "\n",
    "    repeat = ask_to_continue()"
   ]
  },
  {
   "cell_type": "markdown",
   "id": "0cc9ee03",
   "metadata": {},
   "source": [
    "### 5. Convert given number grades into letter grades.\n",
    "\n",
    "- Prompt the user for a numerical grade from 0 to 100\n",
    "- Display the corresponding letter grade\n",
    "- Prompt the user to continue\n",
    "- Assume that the user will enter valid integers for the grades\n",
    "- The application should only continue if the user agrees to\n",
    "- Grade Ranges:\n",
    "\n",
    " - A : 100 - 88\n",
    " - B : 87 - 80\n",
    " - C : 79 - 67\n",
    " - D : 66 - 60\n",
    " - F : 59 - 0\n",
    " - Bonus: Edit your grade ranges to include pluses and minuses (ex: 99-100 = A+)."
   ]
  },
  {
   "cell_type": "code",
   "execution_count": 84,
   "id": "e2475d6d",
   "metadata": {},
   "outputs": [],
   "source": [
    "def ask_for_grade():\n",
    "    grade = input('Enter a numerical grade: ')\n",
    "    while not grade.isdigit():\n",
    "        grade = input('Enter a numerical grade: ')\n",
    "    return int(grade)\n",
    "\n",
    "def get_letter_grade(grade):\n",
    "    if grade >= 97:\n",
    "        return 'A+'\n",
    "    elif grade >= 90:\n",
    "        return 'A'\n",
    "    elif grade >= 88:\n",
    "        return 'A-'\n",
    "    elif grade >= 86:\n",
    "        return 'B+'\n",
    "    elif grade >= 82:\n",
    "        return 'B'\n",
    "    elif grade >= 80:\n",
    "        return 'B-'\n",
    "    elif grade >= 78:\n",
    "        return 'C+'\n",
    "    elif grade >= 69:\n",
    "        return 'C'\n",
    "    elif grade >= 67:\n",
    "        return 'C-'\n",
    "    elif grade >= 65:\n",
    "        return 'D+'\n",
    "    elif grade >= 62:\n",
    "        return 'D'\n",
    "    elif grade >= 60:\n",
    "        return 'D-'\n",
    "    else:\n",
    "        return 'F'"
   ]
  },
  {
   "cell_type": "code",
   "execution_count": null,
   "id": "a6fe03ec",
   "metadata": {},
   "outputs": [],
   "source": [
    "repeat = True\n",
    "while repeat:\n",
    "    grade = ask_for_grade()\n",
    "    letter_grade = get_letter_grade(grade)\n",
    "    print(letter_grade)\n",
    "    repeat = ask_to_continue()"
   ]
  },
  {
   "cell_type": "markdown",
   "id": "638cd06f",
   "metadata": {},
   "source": [
    "6. Create a list of dictionaries where each dictionary represents a book that you have read. Each dictionary in the list should have the keys title, author, and genre. Loop through the list and print out information about each book."
   ]
  },
  {
   "cell_type": "code",
   "execution_count": 89,
   "id": "27e5097a",
   "metadata": {},
   "outputs": [],
   "source": [
    "books = [{'title': 'I, robot', 'author': 'Isaac Asimov', 'genre': 'sci-fi'},\n",
    "         {'title': 'Me, robot', 'author': 'Not Asimov', 'genre': 'sci-fi'},\n",
    "         {'title': 'Dune', 'author': 'Herbert Something', 'genre': 'sci-fi'},\n",
    "         {'title': \"Dude, where's my car\", 'author': 'Bob Someone', 'genre': 'biography'},\n",
    "         {'title': 'That One Book', 'author': 'That Guy', 'genre': 'romance'},\n",
    "         {'title': 'The Good One', 'author': 'Joe Lucky', 'genre': 'self help'},\n",
    "         {'title': 'Book Name', 'author': 'Best Seller', 'genre': 'non-fiction'},\n",
    "         {'title': 'The Day Things Happened', 'author': 'The Survivor', 'genre': 'non-fiction'},\n",
    "         {'title': 'I Did a Thing', 'author': 'Not Asimov', 'genre': 'biography'},\n",
    "         {'title': 'Some Name', 'author': 'Best Seller', 'genre': 'self help'}\n",
    "        ]"
   ]
  },
  {
   "cell_type": "code",
   "execution_count": 91,
   "id": "5244b26b",
   "metadata": {},
   "outputs": [
    {
     "name": "stdout",
     "output_type": "stream",
     "text": [
      "{'title': 'I, robot', 'author': 'Isaac Asimov', 'genre': 'sci-fi'}\n",
      "{'title': 'Me, robot', 'author': 'Not Asimov', 'genre': 'sci-fi'}\n",
      "{'title': 'Dune', 'author': 'Herbert Something', 'genre': 'sci-fi'}\n",
      "{'title': \"Dude, where's my car\", 'author': 'Bob Someone', 'genre': 'biography'}\n",
      "{'title': 'That One Book', 'author': 'That Guy', 'genre': 'romance'}\n",
      "{'title': 'The Good One', 'author': 'Joe Lucky', 'genre': 'self help'}\n",
      "{'title': 'Book Name', 'author': 'Best Seller', 'genre': 'non-fiction'}\n",
      "{'title': 'The Day Things Happened', 'author': 'The Survivor', 'genre': 'non-fiction'}\n",
      "{'title': 'I Did a Thing', 'author': 'Not Asimov', 'genre': 'biography'}\n",
      "{'title': 'Some Name', 'author': 'Best Seller', 'genre': 'self help'}\n"
     ]
    }
   ],
   "source": [
    "for book in books:\n",
    "    print(book)"
   ]
  },
  {
   "cell_type": "markdown",
   "id": "e40273e0",
   "metadata": {},
   "source": [
    "A. Prompt the user to enter a genre, then loop through your books list and print out the titles of all the books in that genre."
   ]
  },
  {
   "cell_type": "code",
   "execution_count": 96,
   "id": "64af172d",
   "metadata": {},
   "outputs": [
    {
     "name": "stdout",
     "output_type": "stream",
     "text": [
      "What genre are you looking for? sci-fi\n",
      "I, robot\n",
      "Me, robot\n",
      "Dune\n"
     ]
    }
   ],
   "source": [
    "genre_to_find = input('What genre are you looking for? ')\n",
    "for book in books:\n",
    "    if book['genre'] == genre_to_find:\n",
    "        print(book['title'])"
   ]
  }
 ],
 "metadata": {
  "kernelspec": {
   "display_name": "Python 3 (ipykernel)",
   "language": "python",
   "name": "python3"
  },
  "language_info": {
   "codemirror_mode": {
    "name": "ipython",
    "version": 3
   },
   "file_extension": ".py",
   "mimetype": "text/x-python",
   "name": "python",
   "nbconvert_exporter": "python",
   "pygments_lexer": "ipython3",
   "version": "3.9.13"
  }
 },
 "nbformat": 4,
 "nbformat_minor": 5
}
