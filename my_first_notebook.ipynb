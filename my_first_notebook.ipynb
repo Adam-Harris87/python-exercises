{
 "cells": [
  {
   "cell_type": "code",
   "execution_count": 1,
   "id": "1a2a5b77",
   "metadata": {},
   "outputs": [
    {
     "data": {
      "text/plain": [
       "10"
      ]
     },
     "execution_count": 1,
     "metadata": {},
     "output_type": "execute_result"
    }
   ],
   "source": [
    "3 + 7"
   ]
  },
  {
   "cell_type": "markdown",
   "id": "2671897b",
   "metadata": {},
   "source": [
    "command + return will run the current cell"
   ]
  },
  {
   "cell_type": "markdown",
   "id": "f95ce7d8",
   "metadata": {},
   "source": [
    "we can move to 'command' mode by hitting esc, and 'code' mode by hitting return`"
   ]
  },
  {
   "cell_type": "code",
   "execution_count": 2,
   "id": "9a974247",
   "metadata": {},
   "outputs": [
    {
     "name": "stdout",
     "output_type": "stream",
     "text": [
      "Hello World\n"
     ]
    }
   ],
   "source": [
    "greeting = 'Hello World'\n",
    "print(greeting)"
   ]
  },
  {
   "cell_type": "markdown",
   "id": "05082f26",
   "metadata": {},
   "source": [
    "when in command mode, we can hit 'h' to bring up a shortcut menu"
   ]
  },
  {
   "cell_type": "code",
   "execution_count": 4,
   "id": "2a929850",
   "metadata": {},
   "outputs": [
    {
     "data": {
      "text/plain": [
       "7"
      ]
     },
     "execution_count": 4,
     "metadata": {},
     "output_type": "execute_result"
    }
   ],
   "source": [
    "number = 4\n",
    "number += 3\n",
    "number"
   ]
  },
  {
   "cell_type": "markdown",
   "id": "ff783f7b",
   "metadata": {},
   "source": [
    "# heading 1\n",
    "## heading 2\n",
    "### heading 3\n",
    "#### heading 4\n",
    "##### heading 5\n",
    "####### heading 6"
   ]
  },
  {
   "cell_type": "markdown",
   "id": "2c50dd40",
   "metadata": {},
   "source": [
    "in command mode, y changes cell to code, m changes to markdown"
   ]
  }
 ],
 "metadata": {
  "kernelspec": {
   "display_name": "Python 3 (ipykernel)",
   "language": "python",
   "name": "python3"
  },
  "language_info": {
   "codemirror_mode": {
    "name": "ipython",
    "version": 3
   },
   "file_extension": ".py",
   "mimetype": "text/x-python",
   "name": "python",
   "nbconvert_exporter": "python",
   "pygments_lexer": "ipython3",
   "version": "3.9.13"
  }
 },
 "nbformat": 4,
 "nbformat_minor": 5
}
