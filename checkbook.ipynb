{
 "cells": [
  {
   "cell_type": "markdown",
   "id": "f2d1a9b0",
   "metadata": {},
   "source": [
    "## checkbook application\n",
    "Build a .py file that will be run from the command line.\n",
    "\n",
    "When run, the application should welcome the user, and prompt them for an action to take:\n",
    "\n",
    "- view current balance\n",
    "- add a debit (withdrawal)\n",
    "- add a credit (deposit)\n",
    "- exit\n",
    "- The application should notify the user if the input is invalid and prompt for another choice.\n",
    "- The application should persist between times that it is run.\n",
    "\n",
    "Example, if you run the application, add some credits, exit the application and run it again, you should still see the balance that you previously created. In order to do this, your application will need to store its data in a text file. Consider creating a file where each line in the file represents a single transaction.\n",
    "Utilize functions to call the balance, debit, credit, and exit"
   ]
  },
  {
   "cell_type": "markdown",
   "id": "280a56e4",
   "metadata": {},
   "source": [
    "## Bonus\n",
    "- Add a menu item that allows the user to view all historical transactions\n",
    "- Assign categories to each transaction\n",
    " - Add a menu item to allow the user to view all the transactions in a given category\n",
    " - Provide the user with summary statistics about the transactions in each category\n",
    "- Keep track of the date and time that each transaction happened\n",
    " - Allow the user to view all the transactions for a given day\n",
    " - Hint: Make sure your list of previous transactions includes the timestamp for each\n",
    "- Allow the user to optionally provide a description for each transaction\n",
    "- Allow the user to search for keywords in the transaction descriptions, and show all the transactions that match the user's search term\n",
    "- Allow the user to modify past transactions"
   ]
  },
  {
   "cell_type": "markdown",
   "id": "780568f4",
   "metadata": {},
   "source": [
    "application will:\n",
    "have a while loop to:\n",
    "- display menu options\n",
    "- continue asking for input until proper input is recieved\n",
    "- reject wrong inputs\n",
    "we will check existance of a balance file for the user, \n",
    "\n",
    "if one does not exists, we will create balance file, or we will open the balance file\n",
    "\n",
    "view current balance will print out the current balance from file\n",
    "\n",
    "add debit will subtract amount from balance and save debit into file\n",
    "\n",
    "add credit will addd amount to balance and save info to file\n",
    "\n",
    "balance file will save:\n",
    "- current running total balance\n",
    "- each transaction will have:\n",
    " - transaction type\n",
    " - transaction amount\n",
    " - ** transaction id\n",
    " - ** transaction description\n",
    " - ** transaction timestamp\n",
    " - ** transaction category"
   ]
  },
  {
   "cell_type": "code",
   "execution_count": 3,
   "id": "af49338c",
   "metadata": {},
   "outputs": [],
   "source": [
    "def menu():\n",
    "    print('What would you like to do?')\n",
    "    print()\n",
    "    print('1: View current balance')\n",
    "    print('2: Add a debit (withdrawal)')\n",
    "    print('3: Add a credit (deposit)')\n",
    "#     print('*** 4: View previous transactions')\n",
    "#     print('*** 5: View transactions by category')\n",
    "#     print('*** 6: View transactions by date')\n",
    "#     print('*** 7: Search transactions by description')\n",
    "#     print('*** 8: Modify previous transaction')\n",
    "    print('4: Exit')\n",
    "    print()\n",
    "    while True:\n",
    "        choice = input('Please enter your selection: ')\n",
    "        if choice.isdigit():\n",
    "            choice = int(choice)\n",
    "            if 0 < choice < 5:\n",
    "                return choice\n",
    "        else:\n",
    "            print('Invalid selection')"
   ]
  },
  {
   "cell_type": "code",
   "execution_count": 4,
   "id": "e7167b96",
   "metadata": {},
   "outputs": [
    {
     "name": "stdout",
     "output_type": "stream",
     "text": [
      "What would you like to do?\n",
      "\n",
      "1: View current balance\n",
      "2: Add a debit (withdrawal)\n",
      "3: Add a credit (deposit)\n",
      "4: Exit\n",
      "\n",
      "Please enter your selection: asdljf\n",
      "Invalid selection\n",
      "Please enter your selection: 6\n",
      "Please enter your selection: 3\n"
     ]
    },
    {
     "data": {
      "text/plain": [
       "3"
      ]
     },
     "execution_count": 4,
     "metadata": {},
     "output_type": "execute_result"
    }
   ],
   "source": [
    "menu_test = menu()\n",
    "menu_test"
   ]
  },
  {
   "cell_type": "code",
   "execution_count": 20,
   "id": "9e6372f4",
   "metadata": {},
   "outputs": [],
   "source": [
    "import os\n",
    "import csv"
   ]
  },
  {
   "cell_type": "code",
   "execution_count": 23,
   "id": "524a4a5f",
   "metadata": {},
   "outputs": [],
   "source": [
    "tran_cols = ['type','amount']\n",
    "# tran_cols = ['type', 'amount', 'category', 'description', 'date', 'time', 'id']"
   ]
  },
  {
   "cell_type": "code",
   "execution_count": 33,
   "id": "dae5684e",
   "metadata": {},
   "outputs": [],
   "source": [
    "def open_balance_file():\n",
    "    if os.path.exists('checkbook_balance.csv'):\n",
    "        with open('checkbook_balance.csv', 'r') as f:\n",
    "            ckbk_content = csv.DictReader(f, fieldnames=tran_cols)\n",
    "            transactions = [line for line in ckbk_content][1:]\n",
    "            return transactions\n",
    "    else:\n",
    "        # if transaction checkbook file does not exist, create one\n",
    "        print('Checkbook file does not exist')\n",
    "        print('Creating new checkbook')\n",
    "        with open('checkbook_balance.csv', 'w') as f:\n",
    "            writer = csv.DictWriter(f, fieldnames=tran_cols)\n",
    "            writer.writeheader()"
   ]
  },
  {
   "cell_type": "code",
   "execution_count": 22,
   "id": "18633ef0",
   "metadata": {},
   "outputs": [
    {
     "data": {
      "text/plain": [
       "[]"
      ]
     },
     "execution_count": 22,
     "metadata": {},
     "output_type": "execute_result"
    }
   ],
   "source": [
    "transactions = open_balance_file()\n",
    "transactions"
   ]
  },
  {
   "cell_type": "code",
   "execution_count": 34,
   "id": "06864368",
   "metadata": {},
   "outputs": [],
   "source": [
    "def add_to_ckbk(details):\n",
    "    with open('checkbook_balance.csv', 'a') as f:\n",
    "        writer = csv.DictWriter(f, fieldnames=tran_cols)\n",
    "        writer.writerow(details)"
   ]
  },
  {
   "cell_type": "code",
   "execution_count": 43,
   "id": "2a15a058",
   "metadata": {},
   "outputs": [],
   "source": [
    "def view_current_balance(transaction_list):\n",
    "    total = 0\n",
    "    for tran in transaction_list:\n",
    "        if tran['type'] == 'deposit':\n",
    "            total += float(tran['amount'])\n",
    "        else:\n",
    "            total -= float(tran['amount'])\n",
    "    print(f'Current balance: ${total}')\n",
    "    return"
   ]
  },
  {
   "cell_type": "code",
   "execution_count": 38,
   "id": "df7dcc41",
   "metadata": {},
   "outputs": [],
   "source": [
    "tester = [{'type':'deposit', 'amount': 25}, {'type':'deposit', 'amount': 25},\n",
    "         {'type':'deposit', 'amount': 25},{'type':'deposit', 'amount': 25},\n",
    "         {'type':'withdrawal', 'amount': 10}]\n",
    "tester2 = {'type':'withdrawal', 'amount': 10}\n",
    "add_to_ckbk(tester2)"
   ]
  },
  {
   "cell_type": "code",
   "execution_count": 39,
   "id": "b15aac19",
   "metadata": {},
   "outputs": [],
   "source": [
    "def get_transaction_details(trans_type):\n",
    "    #ask for amount\n",
    "    #repeat if invalid input\n",
    "    while True:\n",
    "        amount = input('Please enter amount: ')\n",
    "        if amount.isdigit():\n",
    "            amount = float(amount)\n",
    "            if amount > 0.00:\n",
    "                print('Amount cannot be negative')\n",
    "                break\n",
    "        else:\n",
    "            print('Invalid input')\n",
    "    \n",
    "    #** ask for category\n",
    "    \n",
    "    #** ask for description\n",
    "    \n",
    "    #** get current time and date\n",
    "    \n",
    "    #** create id number\n",
    "    \n",
    "    details = {'type':trans_type, 'amount':amount}\n",
    "#     details = {'type':trans_type, 'amount':amount, 'cat':cat, 'desc':desc, 'date':date,\n",
    "#               'time':time, 'id':id}\n",
    "\n",
    "    return details"
   ]
  },
  {
   "cell_type": "code",
   "execution_count": 40,
   "id": "1232eb33",
   "metadata": {},
   "outputs": [],
   "source": [
    "def add_debit():\n",
    "    print('Debit (withdrawal):')\n",
    "    details = get_transaction_details('withdrawal')    \n",
    "    \n",
    "    # add transaction details to transaction file\n",
    "    # add_to_ckbk(details)"
   ]
  },
  {
   "cell_type": "code",
   "execution_count": 41,
   "id": "768d488d",
   "metadata": {},
   "outputs": [
    {
     "name": "stdout",
     "output_type": "stream",
     "text": [
      "Debit:\n",
      "Please enter amount: sdoihjf\n",
      "Invalid input\n",
      "Please enter amount: -4\n",
      "Invalid input\n",
      "Please enter amount: 0.30\n",
      "Invalid input\n",
      "Please enter amount: 8\n"
     ]
    },
    {
     "ename": "NameError",
     "evalue": "name 'details' is not defined",
     "output_type": "error",
     "traceback": [
      "\u001b[0;31m---------------------------------------------------------------------------\u001b[0m",
      "\u001b[0;31mNameError\u001b[0m                                 Traceback (most recent call last)",
      "\u001b[0;32m/var/folders/49/v6sf5vy165dghytk4qv6jfhc0000gn/T/ipykernel_13804/2230357186.py\u001b[0m in \u001b[0;36m<module>\u001b[0;34m\u001b[0m\n\u001b[1;32m      1\u001b[0m \u001b[0mtest\u001b[0m \u001b[0;34m=\u001b[0m \u001b[0madd_debit\u001b[0m\u001b[0;34m(\u001b[0m\u001b[0;34m)\u001b[0m\u001b[0;34m\u001b[0m\u001b[0;34m\u001b[0m\u001b[0m\n\u001b[0;32m----> 2\u001b[0;31m \u001b[0mprint\u001b[0m\u001b[0;34m(\u001b[0m\u001b[0mdetails\u001b[0m\u001b[0;34m)\u001b[0m\u001b[0;34m\u001b[0m\u001b[0;34m\u001b[0m\u001b[0m\n\u001b[0m",
      "\u001b[0;31mNameError\u001b[0m: name 'details' is not defined"
     ]
    }
   ],
   "source": [
    "test = add_debit()"
   ]
  },
  {
   "cell_type": "code",
   "execution_count": 41,
   "id": "495aba32",
   "metadata": {},
   "outputs": [],
   "source": [
    "def add_credit():\n",
    "    print('Credit (deposit):')\n",
    "    details = get_transaction_details('deposit')\n",
    "    \n",
    "    # add transaction details to transaction file\n",
    "    # add_to_ckbk(details)"
   ]
  },
  {
   "cell_type": "code",
   "execution_count": 45,
   "id": "dbd3627f",
   "metadata": {},
   "outputs": [
    {
     "name": "stdout",
     "output_type": "stream",
     "text": [
      "Welcome to your checkbook!\n",
      "What would you like to do?\n",
      "\n",
      "1: View current balance\n",
      "2: Add a debit (withdrawal)\n",
      "3: Add a credit (deposit)\n",
      "4: Exit\n",
      "\n",
      "Please enter your selection: 1\n",
      "Current balance: $65.0\n"
     ]
    }
   ],
   "source": [
    "print('Welcome to your checkbook!')\n",
    "transactions = open_balance_file()\n",
    "choice = menu()\n",
    "#1: View current balance\n",
    "#2: Add a debit (withdrawal)\n",
    "#3: Add a credit (deposit)\n",
    "#*** 4: View previous transactions\n",
    "#*** 5: View transactions by category\n",
    "#*** 6: View transactions by date\n",
    "#*** 7: Search transactions by description\n",
    "#*** 8: Modify previous transaction\n",
    "#9: Exit\n",
    "if choice == 1:\n",
    "    view_current_balance(transactions)\n",
    "elif choice == 2:\n",
    "    add_debit()\n",
    "elif choice == 3:\n",
    "    add_credit()\n",
    "elif choice == 4:\n",
    "    exit()\n",
    "# elif choice == 4:\n",
    "#     view_prev_trans()\n",
    "# elif choice == 5:\n",
    "#     view_trans_by_cat()\n",
    "# elif choice == 6:\n",
    "#     view_trans_by_date()\n",
    "# elif choice == 7:\n",
    "#     search_trans_by_desc()\n",
    "# elif choice == 8:\n",
    "#     modify_prev_trans()\n",
    "elif choice == 9:\n",
    "    exit()\n",
    "        "
   ]
  }
 ],
 "metadata": {
  "kernelspec": {
   "display_name": "Python 3 (ipykernel)",
   "language": "python",
   "name": "python3"
  },
  "language_info": {
   "codemirror_mode": {
    "name": "ipython",
    "version": 3
   },
   "file_extension": ".py",
   "mimetype": "text/x-python",
   "name": "python",
   "nbconvert_exporter": "python",
   "pygments_lexer": "ipython3",
   "version": "3.9.13"
  }
 },
 "nbformat": 4,
 "nbformat_minor": 5
}
