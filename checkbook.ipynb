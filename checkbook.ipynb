{
 "cells": [
  {
   "cell_type": "markdown",
   "id": "bc8cd535",
   "metadata": {},
   "source": [
    "## checkbook application\n",
    "Build a .py file that will be run from the command line.\n",
    "\n",
    "When run, the application should welcome the user, and prompt them for an action to take:\n",
    "\n",
    "- view current balance\n",
    "- add a debit (withdrawal)\n",
    "- add a credit (deposit)\n",
    "- exit\n",
    "- The application should notify the user if the input is invalid and prompt for another choice.\n",
    "- The application should persist between times that it is run.\n",
    "\n",
    "Example, if you run the application, add some credits, exit the application and run it again, you should still see the balance that you previously created. In order to do this, your application will need to store its data in a text file. Consider creating a file where each line in the file represents a single transaction.\n",
    "Utilize functions to call the balance, debit, credit, and exit"
   ]
  },
  {
   "cell_type": "markdown",
   "id": "47987fd6",
   "metadata": {},
   "source": [
    "## Bonus\n",
    "- Add a menu item that allows the user to view all historical transactions\n",
    "- Assign categories to each transaction\n",
    " - Add a menu item to allow the user to view all the transactions in a given category\n",
    " - Provide the user with summary statistics about the transactions in each category\n",
    "- Keep track of the date and time that each transaction happened\n",
    " - Allow the user to view all the transactions for a given day\n",
    " - Hint: Make sure your list of previous transactions includes the timestamp for each\n",
    "- Allow the user to optionally provide a description for each transaction\n",
    "- Allow the user to search for keywords in the transaction descriptions, and show all the transactions that match the user's search term\n",
    "- Allow the user to modify past transactions"
   ]
  },
  {
   "cell_type": "markdown",
   "id": "64808f70",
   "metadata": {},
   "source": [
    "application will:\n",
    "have a while loop to:\n",
    "- display menu options\n",
    "- continue asking for input until proper input is recieved\n",
    "- reject wrong inputs\n",
    "we will check existance of a balance file for the user, \n",
    "\n",
    "if one does not exists, we will create balance file, or we will open the balance file\n",
    "\n",
    "view current balance will print out the current balance from file\n",
    "\n",
    "add debit will subtract amount from balance and save debit into file\n",
    "\n",
    "add credit will addd amount to balance and save info to file\n",
    "\n",
    "balance file will save:\n",
    "- current running total balance\n",
    "- each transaction will have:\n",
    " - transaction type\n",
    " - transaction amount\n",
    " - ** transaction id\n",
    " - ** transaction description\n",
    " - ** transaction timestamp\n",
    " - ** transaction category"
   ]
  },
  {
   "cell_type": "code",
   "execution_count": 23,
   "id": "e53a3dfa",
   "metadata": {},
   "outputs": [],
   "source": [
    "def menu():\n",
    "    print('What would you like to do?')\n",
    "    print()\n",
    "    print('1: View current balance')\n",
    "    print('2: Add a debit (withdrawal)')\n",
    "    print('3: Add a credit (deposit)')\n",
    "#     print('*** 4: View previous transactions')\n",
    "#     print('*** 5: View transactions by category')\n",
    "#     print('*** 6: View transactions by date')\n",
    "#     print('*** 7: Search transactions by description')\n",
    "#     print('*** 8: Modify previous transaction')\n",
    "    print('4: Exit')\n",
    "    print()\n",
    "    while True:\n",
    "        choice = input('Please enter your selection: ')\n",
    "        if choice.isdigit():\n",
    "            choice = int(choice)\n",
    "            if 0 < choice < 5:\n",
    "                return choice\n",
    "        else:\n",
    "            print('Invalid selection')"
   ]
  },
  {
   "cell_type": "code",
   "execution_count": 24,
   "id": "b9ba1c4b",
   "metadata": {},
   "outputs": [
    {
     "name": "stdout",
     "output_type": "stream",
     "text": [
      "What would you like to do?\n",
      "\n",
      "1: View current balance\n",
      "2: Add a debit (withdrawal)\n",
      "3: Add a credit (deposit)\n",
      "4: Exit\n",
      "\n",
      "Please enter your selection: 3\n"
     ]
    },
    {
     "data": {
      "text/plain": [
       "3"
      ]
     },
     "execution_count": 24,
     "metadata": {},
     "output_type": "execute_result"
    }
   ],
   "source": [
    "menu_test = menu()\n",
    "menu_test"
   ]
  },
  {
   "cell_type": "code",
   "execution_count": 4,
   "id": "820dbf4f",
   "metadata": {},
   "outputs": [],
   "source": [
    "import os\n",
    "import csv"
   ]
  },
  {
   "cell_type": "code",
   "execution_count": 7,
   "id": "ed75114f",
   "metadata": {},
   "outputs": [],
   "source": [
    "tran_cols = ['type','amount']\n",
    "# tran_cols = ['id', 'type', 'amount', 'category', 'description', 'date', 'time']"
   ]
  },
  {
   "cell_type": "code",
   "execution_count": 21,
   "id": "f9832158",
   "metadata": {},
   "outputs": [],
   "source": [
    "def open_balance_file():\n",
    "    if os.path.exists('checkbook_balance.csv'):\n",
    "        with open('checkbook_balance.csv', 'r') as f:\n",
    "            ckbk_content = csv.DictReader(f, fieldnames=tran_cols)\n",
    "            transactions = [line for line in ckbk_content][1:]\n",
    "            return transactions\n",
    "    else:\n",
    "        print('Checkbook file does not exist')\n",
    "        print('Creating new checkbook')\n",
    "        with open('checkbook_balance.csv', 'w') as f:\n",
    "            writer = csv.DictWriter(f, fieldnames=tran_cols)\n",
    "            writer.writeheader()"
   ]
  },
  {
   "cell_type": "code",
   "execution_count": 22,
   "id": "ac99e712",
   "metadata": {},
   "outputs": [
    {
     "data": {
      "text/plain": [
       "[]"
      ]
     },
     "execution_count": 22,
     "metadata": {},
     "output_type": "execute_result"
    }
   ],
   "source": [
    "transactions = open_balance_file()\n",
    "transactions"
   ]
  },
  {
   "cell_type": "code",
   "execution_count": 30,
   "id": "9b3b5174",
   "metadata": {},
   "outputs": [],
   "source": [
    "def view_current_balance(transaction_list):\n",
    "    total = 0\n",
    "    for tran in transaction_list:\n",
    "        if tran['type'] == 'deposit':\n",
    "            total += tran['amount']\n",
    "        else:\n",
    "            total -= tran['amount']\n",
    "    print(f'Current balance: ${total}')\n",
    "    return total"
   ]
  },
  {
   "cell_type": "code",
   "execution_count": 31,
   "id": "83f8d11a",
   "metadata": {},
   "outputs": [
    {
     "name": "stdout",
     "output_type": "stream",
     "text": [
      "Current balance: $90\n",
      "90\n"
     ]
    }
   ],
   "source": [
    "tester = [{'amount': 25, 'type':'deposit'}, {'amount': 25, 'type':'deposit'},\n",
    "         {'amount': 25, 'type':'deposit'},{'amount': 25, 'type':'deposit'},\n",
    "         {'amount': 10, 'type':'withdrawal'}]\n",
    "print(view_current_balance(tester))"
   ]
  },
  {
   "cell_type": "code",
   "execution_count": null,
   "id": "cc1cd174",
   "metadata": {},
   "outputs": [],
   "source": [
    "def add_debit():\n",
    "    #ask for amount\n",
    "    #repeat if invalid input\n",
    "    while True:\n",
    "        amount = input('Please enter debit amount: ')\n",
    "        if amount.isdigit():\n",
    "            amount = float(amount)\n",
    "            \n",
    "    \n",
    "    #** ask for category\n",
    "    #** ask for description\n",
    "    #** get current time and date\n",
    "    #** create id number"
   ]
  }
 ],
 "metadata": {
  "kernelspec": {
   "display_name": "Python 3 (ipykernel)",
   "language": "python",
   "name": "python3"
  },
  "language_info": {
   "codemirror_mode": {
    "name": "ipython",
    "version": 3
   },
   "file_extension": ".py",
   "mimetype": "text/x-python",
   "name": "python",
   "nbconvert_exporter": "python",
   "pygments_lexer": "ipython3",
   "version": "3.9.13"
  }
 },
 "nbformat": 4,
 "nbformat_minor": 5
}
