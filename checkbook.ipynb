{
 "cells": [
  {
   "cell_type": "markdown",
   "id": "b7cd9fce",
   "metadata": {},
   "source": [
    "## checkbook application\n",
    "Build a .py file that will be run from the command line.\n",
    "\n",
    "When run, the application should welcome the user, and prompt them for an action to take:\n",
    "\n",
    "- view current balance\n",
    "- add a debit (withdrawal)\n",
    "- add a credit (deposit)\n",
    "- exit\n",
    "- The application should notify the user if the input is invalid and prompt for another choice.\n",
    "- The application should persist between times that it is run.\n",
    "\n",
    "Example, if you run the application, add some credits, exit the application and run it again, you should still see the balance that you previously created. In order to do this, your application will need to store its data in a text file. Consider creating a file where each line in the file represents a single transaction.\n",
    "Utilize functions to call the balance, debit, credit, and exit"
   ]
  },
  {
   "cell_type": "markdown",
   "id": "c036a1f6",
   "metadata": {},
   "source": [
    "application will:\n",
    "have a while loop to:\n",
    "- display menu options\n",
    "- continue asking for input until proper input is recieved\n",
    "- reject wrong inputs\n",
    "we will check existance of a balance file for the user, \n",
    "\n",
    "if one does not exists, we will create balance file, or we will open the balance file\n",
    "\n",
    "view current balance will print out the current balance from file\n",
    "\n",
    "add debit will subtract amount from balance and save debit into file\n",
    "\n",
    "add credit will addd amount to balance and save info to file"
   ]
  },
  {
   "cell_type": "code",
   "execution_count": 2,
   "id": "dfec7bec",
   "metadata": {},
   "outputs": [],
   "source": [
    "def menu():\n",
    "    print('What would you like to do?')\n",
    "    print()\n",
    "    print('1: View current balance')\n",
    "    print('2: Add a debit (withdrawal)')\n",
    "    print('3: Add a credit (deposit)')\n",
    "    print('4: Exit')\n",
    "    print()\n",
    "    while True:\n",
    "        choice = input('Please enter your selection: ')\n",
    "        if choice.isdigit():\n",
    "            choice = int(choice)\n",
    "            if 0 < choice < 5:\n",
    "                return choice\n",
    "        else:\n",
    "            print('Invalid choice')"
   ]
  },
  {
   "cell_type": "code",
   "execution_count": 3,
   "id": "e764138e",
   "metadata": {},
   "outputs": [
    {
     "name": "stdout",
     "output_type": "stream",
     "text": [
      "What would you like to do?\n",
      "\n",
      "1: View current balance\n",
      "2: Add a debit (withdrawal)\n",
      "3: Add a credit (deposit)\n",
      "4: Exit\n",
      "\n",
      "Please enter your selection: afloj\n",
      "Invalid choice\n",
      "Please enter your selection: oasdijf\n",
      "Invalid choice\n",
      "Please enter your selection: 9\n",
      "Please enter your selection: 0\n",
      "Please enter your selection: 3\n"
     ]
    },
    {
     "data": {
      "text/plain": [
       "3"
      ]
     },
     "execution_count": 3,
     "metadata": {},
     "output_type": "execute_result"
    }
   ],
   "source": [
    "test = menu()\n",
    "test"
   ]
  }
 ],
 "metadata": {
  "kernelspec": {
   "display_name": "Python 3 (ipykernel)",
   "language": "python",
   "name": "python3"
  },
  "language_info": {
   "codemirror_mode": {
    "name": "ipython",
    "version": 3
   },
   "file_extension": ".py",
   "mimetype": "text/x-python",
   "name": "python",
   "nbconvert_exporter": "python",
   "pygments_lexer": "ipython3",
   "version": "3.9.13"
  }
 },
 "nbformat": 4,
 "nbformat_minor": 5
}
